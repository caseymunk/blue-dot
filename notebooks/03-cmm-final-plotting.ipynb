{
 "cells": [
  {
   "cell_type": "markdown",
   "metadata": {},
   "source": [
    "## Final visualization code for Pale Blue Dot challenge"
   ]
  },
  {
   "cell_type": "markdown",
   "metadata": {},
   "source": [
    "### data from source: https://disc.gsfc.nasa.gov/datasets/M2TMNXOCN_5.12.4/summary "
   ]
  },
  {
   "cell_type": "markdown",
   "metadata": {},
   "source": [
    "All images included in final report will be found here, and are saved to /reports/figures"
   ]
  },
  {
   "cell_type": "markdown",
   "metadata": {},
   "source": [
    "## Plotting final sea ice plot for report"
   ]
  },
  {
   "cell_type": "code",
   "execution_count": 11,
   "metadata": {},
   "outputs": [
    {
     "data": {
      "application/vnd.plotly.v1+json": {
       "config": {
        "plotlyServerURL": "https://plot.ly"
       },
       "data": [
        {
         "line": {
          "color": "#b1ffff",
          "width": 1
         },
         "mode": "lines",
         "name": "1981-1990 25th Pctl",
         "showlegend": false,
         "type": "scatter",
         "x": [
          1,
          2,
          3,
          4,
          5,
          6,
          7,
          8,
          9,
          10,
          11,
          12
         ],
         "y": [
          0.1822800599038601,
          0.18391869217157364,
          0.18541322275996208,
          0.1839982196688652,
          0.15365808829665184,
          0.09222518280148506,
          0.040344431065022945,
          0.008290012134239078,
          0.004449499654583633,
          0.026802307926118374,
          0.11628792993724346,
          0.16880463063716888
         ]
        },
        {
         "fill": "tonexty",
         "fillcolor": "#b1ffff",
         "line": {
          "color": "#b1ffff",
          "width": 1
         },
         "mode": "lines",
         "name": "1981-1990 75th Pctl",
         "showlegend": false,
         "type": "scatter",
         "x": [
          1,
          2,
          3,
          4,
          5,
          6,
          7,
          8,
          9,
          10,
          11,
          12
         ],
         "y": [
          0.1904035396873951,
          0.191507488489151,
          0.19421666488051414,
          0.1921771727502346,
          0.1722470000386238,
          0.1382976733148098,
          0.06678935699164867,
          0.03626842750236392,
          0.021608272567391396,
          0.07253994047641754,
          0.1410103365778923,
          0.18048839643597603
         ]
        },
        {
         "line": {
          "color": "#00ebeb",
          "width": 1
         },
         "mode": "lines",
         "name": "1991-2000 25th Pctl",
         "showlegend": false,
         "type": "scatter",
         "x": [
          1,
          2,
          3,
          4,
          5,
          6,
          7,
          8,
          9,
          10,
          11,
          12
         ],
         "y": [
          0.18693799525499344,
          0.18843773007392883,
          0.18629247695207596,
          0.18434428796172142,
          0.15007056668400764,
          0.09434756636619568,
          0.02788578998297453,
          0.0028541554347611964,
          0.0036591955577023327,
          0.024001408834010363,
          0.0748366191983223,
          0.17086010798811913
         ]
        },
        {
         "fill": "tonexty",
         "fillcolor": "#00ebeb",
         "line": {
          "color": "#00ebeb",
          "width": 1
         },
         "mode": "lines",
         "name": "1991-2000 75th Pctl",
         "showlegend": false,
         "type": "scatter",
         "x": [
          1,
          2,
          3,
          4,
          5,
          6,
          7,
          8,
          9,
          10,
          11,
          12
         ],
         "y": [
          0.19018777459859848,
          0.19327179342508316,
          0.19200440868735313,
          0.19053137302398682,
          0.17087406292557716,
          0.1293634343892336,
          0.055369678884744644,
          0.015134575311094522,
          0.018307987367734313,
          0.052162240259349346,
          0.11729537509381771,
          0.18426130712032318
         ]
        },
        {
         "line": {
          "color": "#00c4c4",
          "width": 1
         },
         "mode": "lines",
         "name": "2001-2010 25th Pctl",
         "showlegend": false,
         "type": "scatter",
         "x": [
          1,
          2,
          3,
          4,
          5,
          6,
          7,
          8,
          9,
          10,
          11,
          12
         ],
         "y": [
          0.18106825277209282,
          0.18436672911047935,
          0.1884574070572853,
          0.18135935440659523,
          0.14857353642582893,
          0.07514273934066296,
          0.012922507477924228,
          0.0009088442020583898,
          0.00031713971111457795,
          0.009886630810797215,
          0.07575192488729954,
          0.16678451746702194
         ]
        },
        {
         "fill": "tonexty",
         "fillcolor": "#00c4c4",
         "line": {
          "color": "#00c4c4",
          "width": 1
         },
         "mode": "lines",
         "name": "2001-2010 75th Pctl",
         "showlegend": false,
         "type": "scatter",
         "x": [
          1,
          2,
          3,
          4,
          5,
          6,
          7,
          8,
          9,
          10,
          11,
          12
         ],
         "y": [
          0.20307613909244537,
          0.2064211741089821,
          0.2025994062423706,
          0.20922719687223434,
          0.16788288950920105,
          0.08739073015749454,
          0.047318282537162304,
          0.012624028837308288,
          0.0038513168692588806,
          0.02285748766735196,
          0.11330620758235455,
          0.18703193590044975
         ]
        },
        {
         "line": {
          "color": "#009d9d",
          "width": 1
         },
         "mode": "lines",
         "name": "2011-2022 25th Pctl",
         "showlegend": false,
         "type": "scatter",
         "x": [
          1,
          2,
          3,
          4,
          5,
          6,
          7,
          8,
          9,
          10,
          11,
          12
         ],
         "y": [
          0.1970141865313053,
          0.20189980417490005,
          0.20331192389130592,
          0.18876279890537262,
          0.11253340914845467,
          0.053620762191712856,
          0.011132407234981656,
          0.00018821155754267238,
          0.0007995454361662269,
          0.0058673652820289135,
          0.0651714988052845,
          0.15772471576929092
         ]
        },
        {
         "fill": "tonexty",
         "fillcolor": "#009d9d",
         "line": {
          "color": "#009d9d",
          "width": 1
         },
         "mode": "lines",
         "name": "2011-2022 75th Pctl",
         "showlegend": false,
         "type": "scatter",
         "x": [
          1,
          2,
          3,
          4,
          5,
          6,
          7,
          8,
          9,
          10,
          11,
          12
         ],
         "y": [
          0.20757214725017548,
          0.21035847812891006,
          0.21308286488056183,
          0.2074100226163864,
          0.1646217592060566,
          0.08240364491939545,
          0.020227645989507437,
          0.001028912010951899,
          0.001408028940204531,
          0.013182905036956072,
          0.0831838920712471,
          0.18478607758879662
         ]
        },
        {
         "line": {
          "color": "#007676",
          "width": 2
         },
         "mode": "lines",
         "name": "Year 2023",
         "type": "scatter",
         "x": [
          1,
          2,
          3,
          4,
          5,
          6,
          7,
          8,
          9,
          10,
          11,
          12
         ],
         "y": [
          0.20088353753089905,
          0.20808571577072144,
          0.20793235301971436,
          0.21016432344913483,
          0.17902381718158722,
          0.0983843207359314,
          0.016506895422935486,
          0.00003418261621845886,
          0,
          0.00043609418207779527,
          0.05319080874323845,
          0.17476655542850494
         ]
        },
        {
         "line": {
          "color": "#b1ffff",
          "width": 10
         },
         "mode": "lines",
         "name": "1981-1990 25th Percentile",
         "type": "scatter",
         "x": [
          null
         ],
         "y": [
          null
         ]
        },
        {
         "line": {
          "color": "#b1ffff",
          "width": 10
         },
         "mode": "lines",
         "name": "1981-1990 75th Percentile",
         "type": "scatter",
         "x": [
          null
         ],
         "y": [
          null
         ]
        },
        {
         "line": {
          "color": "#00ebeb",
          "width": 10
         },
         "mode": "lines",
         "name": "1991-2000 25th Percentile",
         "type": "scatter",
         "x": [
          null
         ],
         "y": [
          null
         ]
        },
        {
         "line": {
          "color": "#00ebeb",
          "width": 10
         },
         "mode": "lines",
         "name": "1991-2000 75th Percentile",
         "type": "scatter",
         "x": [
          null
         ],
         "y": [
          null
         ]
        },
        {
         "line": {
          "color": "#00c4c4",
          "width": 10
         },
         "mode": "lines",
         "name": "2001-2010 25th Percentile",
         "type": "scatter",
         "x": [
          null
         ],
         "y": [
          null
         ]
        },
        {
         "line": {
          "color": "#00c4c4",
          "width": 10
         },
         "mode": "lines",
         "name": "2001-2010 75th Percentile",
         "type": "scatter",
         "x": [
          null
         ],
         "y": [
          null
         ]
        },
        {
         "line": {
          "color": "#009d9d",
          "width": 10
         },
         "mode": "lines",
         "name": "2011-2022 25th Percentile",
         "type": "scatter",
         "x": [
          null
         ],
         "y": [
          null
         ]
        },
        {
         "line": {
          "color": "#009d9d",
          "width": 10
         },
         "mode": "lines",
         "name": "2011-2022 75th Percentile",
         "type": "scatter",
         "x": [
          null
         ],
         "y": [
          null
         ]
        }
       ],
       "layout": {
        "legend": {
         "orientation": "v",
         "title": {
          "font": {
           "size": 16
          },
          "text": "Legend"
         },
         "x": 1.05,
         "xanchor": "left",
         "y": 1,
         "yanchor": "top"
        },
        "paper_bgcolor": "rgba(255,255,255,1)",
        "plot_bgcolor": "rgba(255,255,255,1)",
        "template": {
         "data": {
          "bar": [
           {
            "error_x": {
             "color": "#2a3f5f"
            },
            "error_y": {
             "color": "#2a3f5f"
            },
            "marker": {
             "line": {
              "color": "#E5ECF6",
              "width": 0.5
             },
             "pattern": {
              "fillmode": "overlay",
              "size": 10,
              "solidity": 0.2
             }
            },
            "type": "bar"
           }
          ],
          "barpolar": [
           {
            "marker": {
             "line": {
              "color": "#E5ECF6",
              "width": 0.5
             },
             "pattern": {
              "fillmode": "overlay",
              "size": 10,
              "solidity": 0.2
             }
            },
            "type": "barpolar"
           }
          ],
          "carpet": [
           {
            "aaxis": {
             "endlinecolor": "#2a3f5f",
             "gridcolor": "white",
             "linecolor": "white",
             "minorgridcolor": "white",
             "startlinecolor": "#2a3f5f"
            },
            "baxis": {
             "endlinecolor": "#2a3f5f",
             "gridcolor": "white",
             "linecolor": "white",
             "minorgridcolor": "white",
             "startlinecolor": "#2a3f5f"
            },
            "type": "carpet"
           }
          ],
          "choropleth": [
           {
            "colorbar": {
             "outlinewidth": 0,
             "ticks": ""
            },
            "type": "choropleth"
           }
          ],
          "contour": [
           {
            "colorbar": {
             "outlinewidth": 0,
             "ticks": ""
            },
            "colorscale": [
             [
              0,
              "#0d0887"
             ],
             [
              0.1111111111111111,
              "#46039f"
             ],
             [
              0.2222222222222222,
              "#7201a8"
             ],
             [
              0.3333333333333333,
              "#9c179e"
             ],
             [
              0.4444444444444444,
              "#bd3786"
             ],
             [
              0.5555555555555556,
              "#d8576b"
             ],
             [
              0.6666666666666666,
              "#ed7953"
             ],
             [
              0.7777777777777778,
              "#fb9f3a"
             ],
             [
              0.8888888888888888,
              "#fdca26"
             ],
             [
              1,
              "#f0f921"
             ]
            ],
            "type": "contour"
           }
          ],
          "contourcarpet": [
           {
            "colorbar": {
             "outlinewidth": 0,
             "ticks": ""
            },
            "type": "contourcarpet"
           }
          ],
          "heatmap": [
           {
            "colorbar": {
             "outlinewidth": 0,
             "ticks": ""
            },
            "colorscale": [
             [
              0,
              "#0d0887"
             ],
             [
              0.1111111111111111,
              "#46039f"
             ],
             [
              0.2222222222222222,
              "#7201a8"
             ],
             [
              0.3333333333333333,
              "#9c179e"
             ],
             [
              0.4444444444444444,
              "#bd3786"
             ],
             [
              0.5555555555555556,
              "#d8576b"
             ],
             [
              0.6666666666666666,
              "#ed7953"
             ],
             [
              0.7777777777777778,
              "#fb9f3a"
             ],
             [
              0.8888888888888888,
              "#fdca26"
             ],
             [
              1,
              "#f0f921"
             ]
            ],
            "type": "heatmap"
           }
          ],
          "heatmapgl": [
           {
            "colorbar": {
             "outlinewidth": 0,
             "ticks": ""
            },
            "colorscale": [
             [
              0,
              "#0d0887"
             ],
             [
              0.1111111111111111,
              "#46039f"
             ],
             [
              0.2222222222222222,
              "#7201a8"
             ],
             [
              0.3333333333333333,
              "#9c179e"
             ],
             [
              0.4444444444444444,
              "#bd3786"
             ],
             [
              0.5555555555555556,
              "#d8576b"
             ],
             [
              0.6666666666666666,
              "#ed7953"
             ],
             [
              0.7777777777777778,
              "#fb9f3a"
             ],
             [
              0.8888888888888888,
              "#fdca26"
             ],
             [
              1,
              "#f0f921"
             ]
            ],
            "type": "heatmapgl"
           }
          ],
          "histogram": [
           {
            "marker": {
             "pattern": {
              "fillmode": "overlay",
              "size": 10,
              "solidity": 0.2
             }
            },
            "type": "histogram"
           }
          ],
          "histogram2d": [
           {
            "colorbar": {
             "outlinewidth": 0,
             "ticks": ""
            },
            "colorscale": [
             [
              0,
              "#0d0887"
             ],
             [
              0.1111111111111111,
              "#46039f"
             ],
             [
              0.2222222222222222,
              "#7201a8"
             ],
             [
              0.3333333333333333,
              "#9c179e"
             ],
             [
              0.4444444444444444,
              "#bd3786"
             ],
             [
              0.5555555555555556,
              "#d8576b"
             ],
             [
              0.6666666666666666,
              "#ed7953"
             ],
             [
              0.7777777777777778,
              "#fb9f3a"
             ],
             [
              0.8888888888888888,
              "#fdca26"
             ],
             [
              1,
              "#f0f921"
             ]
            ],
            "type": "histogram2d"
           }
          ],
          "histogram2dcontour": [
           {
            "colorbar": {
             "outlinewidth": 0,
             "ticks": ""
            },
            "colorscale": [
             [
              0,
              "#0d0887"
             ],
             [
              0.1111111111111111,
              "#46039f"
             ],
             [
              0.2222222222222222,
              "#7201a8"
             ],
             [
              0.3333333333333333,
              "#9c179e"
             ],
             [
              0.4444444444444444,
              "#bd3786"
             ],
             [
              0.5555555555555556,
              "#d8576b"
             ],
             [
              0.6666666666666666,
              "#ed7953"
             ],
             [
              0.7777777777777778,
              "#fb9f3a"
             ],
             [
              0.8888888888888888,
              "#fdca26"
             ],
             [
              1,
              "#f0f921"
             ]
            ],
            "type": "histogram2dcontour"
           }
          ],
          "mesh3d": [
           {
            "colorbar": {
             "outlinewidth": 0,
             "ticks": ""
            },
            "type": "mesh3d"
           }
          ],
          "parcoords": [
           {
            "line": {
             "colorbar": {
              "outlinewidth": 0,
              "ticks": ""
             }
            },
            "type": "parcoords"
           }
          ],
          "pie": [
           {
            "automargin": true,
            "type": "pie"
           }
          ],
          "scatter": [
           {
            "fillpattern": {
             "fillmode": "overlay",
             "size": 10,
             "solidity": 0.2
            },
            "type": "scatter"
           }
          ],
          "scatter3d": [
           {
            "line": {
             "colorbar": {
              "outlinewidth": 0,
              "ticks": ""
             }
            },
            "marker": {
             "colorbar": {
              "outlinewidth": 0,
              "ticks": ""
             }
            },
            "type": "scatter3d"
           }
          ],
          "scattercarpet": [
           {
            "marker": {
             "colorbar": {
              "outlinewidth": 0,
              "ticks": ""
             }
            },
            "type": "scattercarpet"
           }
          ],
          "scattergeo": [
           {
            "marker": {
             "colorbar": {
              "outlinewidth": 0,
              "ticks": ""
             }
            },
            "type": "scattergeo"
           }
          ],
          "scattergl": [
           {
            "marker": {
             "colorbar": {
              "outlinewidth": 0,
              "ticks": ""
             }
            },
            "type": "scattergl"
           }
          ],
          "scattermapbox": [
           {
            "marker": {
             "colorbar": {
              "outlinewidth": 0,
              "ticks": ""
             }
            },
            "type": "scattermapbox"
           }
          ],
          "scatterpolar": [
           {
            "marker": {
             "colorbar": {
              "outlinewidth": 0,
              "ticks": ""
             }
            },
            "type": "scatterpolar"
           }
          ],
          "scatterpolargl": [
           {
            "marker": {
             "colorbar": {
              "outlinewidth": 0,
              "ticks": ""
             }
            },
            "type": "scatterpolargl"
           }
          ],
          "scatterternary": [
           {
            "marker": {
             "colorbar": {
              "outlinewidth": 0,
              "ticks": ""
             }
            },
            "type": "scatterternary"
           }
          ],
          "surface": [
           {
            "colorbar": {
             "outlinewidth": 0,
             "ticks": ""
            },
            "colorscale": [
             [
              0,
              "#0d0887"
             ],
             [
              0.1111111111111111,
              "#46039f"
             ],
             [
              0.2222222222222222,
              "#7201a8"
             ],
             [
              0.3333333333333333,
              "#9c179e"
             ],
             [
              0.4444444444444444,
              "#bd3786"
             ],
             [
              0.5555555555555556,
              "#d8576b"
             ],
             [
              0.6666666666666666,
              "#ed7953"
             ],
             [
              0.7777777777777778,
              "#fb9f3a"
             ],
             [
              0.8888888888888888,
              "#fdca26"
             ],
             [
              1,
              "#f0f921"
             ]
            ],
            "type": "surface"
           }
          ],
          "table": [
           {
            "cells": {
             "fill": {
              "color": "#EBF0F8"
             },
             "line": {
              "color": "white"
             }
            },
            "header": {
             "fill": {
              "color": "#C8D4E3"
             },
             "line": {
              "color": "white"
             }
            },
            "type": "table"
           }
          ]
         },
         "layout": {
          "annotationdefaults": {
           "arrowcolor": "#2a3f5f",
           "arrowhead": 0,
           "arrowwidth": 1
          },
          "autotypenumbers": "strict",
          "coloraxis": {
           "colorbar": {
            "outlinewidth": 0,
            "ticks": ""
           }
          },
          "colorscale": {
           "diverging": [
            [
             0,
             "#8e0152"
            ],
            [
             0.1,
             "#c51b7d"
            ],
            [
             0.2,
             "#de77ae"
            ],
            [
             0.3,
             "#f1b6da"
            ],
            [
             0.4,
             "#fde0ef"
            ],
            [
             0.5,
             "#f7f7f7"
            ],
            [
             0.6,
             "#e6f5d0"
            ],
            [
             0.7,
             "#b8e186"
            ],
            [
             0.8,
             "#7fbc41"
            ],
            [
             0.9,
             "#4d9221"
            ],
            [
             1,
             "#276419"
            ]
           ],
           "sequential": [
            [
             0,
             "#0d0887"
            ],
            [
             0.1111111111111111,
             "#46039f"
            ],
            [
             0.2222222222222222,
             "#7201a8"
            ],
            [
             0.3333333333333333,
             "#9c179e"
            ],
            [
             0.4444444444444444,
             "#bd3786"
            ],
            [
             0.5555555555555556,
             "#d8576b"
            ],
            [
             0.6666666666666666,
             "#ed7953"
            ],
            [
             0.7777777777777778,
             "#fb9f3a"
            ],
            [
             0.8888888888888888,
             "#fdca26"
            ],
            [
             1,
             "#f0f921"
            ]
           ],
           "sequentialminus": [
            [
             0,
             "#0d0887"
            ],
            [
             0.1111111111111111,
             "#46039f"
            ],
            [
             0.2222222222222222,
             "#7201a8"
            ],
            [
             0.3333333333333333,
             "#9c179e"
            ],
            [
             0.4444444444444444,
             "#bd3786"
            ],
            [
             0.5555555555555556,
             "#d8576b"
            ],
            [
             0.6666666666666666,
             "#ed7953"
            ],
            [
             0.7777777777777778,
             "#fb9f3a"
            ],
            [
             0.8888888888888888,
             "#fdca26"
            ],
            [
             1,
             "#f0f921"
            ]
           ]
          },
          "colorway": [
           "#636efa",
           "#EF553B",
           "#00cc96",
           "#ab63fa",
           "#FFA15A",
           "#19d3f3",
           "#FF6692",
           "#B6E880",
           "#FF97FF",
           "#FECB52"
          ],
          "font": {
           "color": "#2a3f5f"
          },
          "geo": {
           "bgcolor": "white",
           "lakecolor": "white",
           "landcolor": "#E5ECF6",
           "showlakes": true,
           "showland": true,
           "subunitcolor": "white"
          },
          "hoverlabel": {
           "align": "left"
          },
          "hovermode": "closest",
          "mapbox": {
           "style": "light"
          },
          "paper_bgcolor": "white",
          "plot_bgcolor": "#E5ECF6",
          "polar": {
           "angularaxis": {
            "gridcolor": "white",
            "linecolor": "white",
            "ticks": ""
           },
           "bgcolor": "#E5ECF6",
           "radialaxis": {
            "gridcolor": "white",
            "linecolor": "white",
            "ticks": ""
           }
          },
          "scene": {
           "xaxis": {
            "backgroundcolor": "#E5ECF6",
            "gridcolor": "white",
            "gridwidth": 2,
            "linecolor": "white",
            "showbackground": true,
            "ticks": "",
            "zerolinecolor": "white"
           },
           "yaxis": {
            "backgroundcolor": "#E5ECF6",
            "gridcolor": "white",
            "gridwidth": 2,
            "linecolor": "white",
            "showbackground": true,
            "ticks": "",
            "zerolinecolor": "white"
           },
           "zaxis": {
            "backgroundcolor": "#E5ECF6",
            "gridcolor": "white",
            "gridwidth": 2,
            "linecolor": "white",
            "showbackground": true,
            "ticks": "",
            "zerolinecolor": "white"
           }
          },
          "shapedefaults": {
           "line": {
            "color": "#2a3f5f"
           }
          },
          "ternary": {
           "aaxis": {
            "gridcolor": "white",
            "linecolor": "white",
            "ticks": ""
           },
           "baxis": {
            "gridcolor": "white",
            "linecolor": "white",
            "ticks": ""
           },
           "bgcolor": "#E5ECF6",
           "caxis": {
            "gridcolor": "white",
            "linecolor": "white",
            "ticks": ""
           }
          },
          "title": {
           "x": 0.05
          },
          "xaxis": {
           "automargin": true,
           "gridcolor": "white",
           "linecolor": "white",
           "ticks": "",
           "title": {
            "standoff": 15
           },
           "zerolinecolor": "white",
           "zerolinewidth": 2
          },
          "yaxis": {
           "automargin": true,
           "gridcolor": "white",
           "linecolor": "white",
           "ticks": "",
           "title": {
            "standoff": 15
           },
           "zerolinecolor": "white",
           "zerolinewidth": 2
          }
         }
        },
        "title": {
         "text": ""
        },
        "xaxis": {
         "showgrid": false,
         "tickfont": {
          "size": 16
         },
         "tickmode": "array",
         "ticktext": [
          "Jan",
          "Feb",
          "Mar",
          "Apr",
          "May",
          "Jun",
          "Jul",
          "Aug",
          "Sep",
          "Oct",
          "Nov",
          "Dec"
         ],
         "tickvals": [
          1,
          2,
          3,
          4,
          5,
          6,
          7,
          8,
          9,
          10,
          11,
          12
         ],
         "title": {
          "font": {
           "size": 16
          },
          "text": "Month"
         }
        },
        "yaxis": {
         "showgrid": false,
         "tickfont": {
          "size": 16
         },
         "title": {
          "font": {
           "size": 16
          },
          "text": "Average Sea Ice Fraction (Extent)"
         }
        }
       }
      }
     },
     "metadata": {},
     "output_type": "display_data"
    }
   ],
   "source": [
    "import xarray as xr\n",
    "import plotly.graph_objects as go\n",
    "import os\n",
    "import pandas as pd\n",
    "\n",
    "# Base directory where the NetCDF files are stored\n",
    "data_dir = '/Users/casey/Desktop/blue-dot/data/raw'\n",
    "\n",
    "# Months (1 through 12) and their corresponding names\n",
    "month_names = ['Jan', 'Feb', 'Mar', 'Apr', 'May', 'Jun', 'Jul', 'Aug', 'Sep', 'Oct', 'Nov', 'Dec']\n",
    "months = list(range(1, 13))\n",
    "\n",
    "# Decade ranges\n",
    "decades = [(1981, 1990), (1991, 2000), (2001, 2010), (2011, 2022)]\n",
    "\n",
    "# Custom line and fill colors for each decade\n",
    "decade_colors = ['#b1ffff', '#00ebeb', '#00c4c4', '#009d9d']\n",
    "\n",
    "# Latitude and longitude bounds for Northern Alaska\n",
    "lat_bounds = [64, 71]\n",
    "lon_bounds = [-168, -141]\n",
    "\n",
    "# Initialize DataFrame for sea ice extent\n",
    "df_sea_ice = pd.DataFrame()\n",
    "\n",
    "# Process each file in the directory\n",
    "for file_name in os.listdir(data_dir):\n",
    "    if file_name.endswith('.nc4'):\n",
    "        parts = file_name.split('.')\n",
    "        date_part = parts[-2]\n",
    "        year = int(date_part[:4])\n",
    "        month = int(date_part[4:6])\n",
    "\n",
    "        file_path = os.path.join(data_dir, file_name)\n",
    "        ds = xr.open_dataset(file_path)\n",
    "\n",
    "        sea_ice = ds['FRSEAICE'].sel(lat=slice(*lat_bounds), lon=slice(*lon_bounds))\n",
    "        df_sea_ice.at[pd.to_datetime(f'{year}-{month}-01'), 'Sea Ice Extent'] = sea_ice.mean().values\n",
    "        ds.close()\n",
    "\n",
    "# Create a figure for plotting\n",
    "fig = go.Figure()\n",
    "\n",
    "# Plot for each decade\n",
    "for (start_year, end_year), color in zip(decades, decade_colors):\n",
    "    decade_data = df_sea_ice[(df_sea_ice.index.year >= start_year) & (df_sea_ice.index.year <= end_year)]\n",
    "    lower_bound = decade_data.groupby(decade_data.index.month).quantile(0.25) # 25th percentile\n",
    "    upper_bound = decade_data.groupby(decade_data.index.month).quantile(0.75) # 75th percentile\n",
    "\n",
    "    fig.add_trace(go.Scatter(x=lower_bound.index, y=lower_bound['Sea Ice Extent'], mode='lines', line=dict(color=color, width=1), name=f'{start_year}-{end_year} 25th Pctl', showlegend=False))\n",
    "    fig.add_trace(go.Scatter(x=upper_bound.index, y=upper_bound['Sea Ice Extent'], mode='lines', line=dict(color=color, width=1), name=f'{start_year}-{end_year} 75th Pctl', fill='tonexty', fillcolor=color, showlegend=False))\n",
    "\n",
    "# Plot the year 2023 separately\n",
    "data_2023 = df_sea_ice[df_sea_ice.index.year == 2023].sort_index()\n",
    "if not data_2023.empty:\n",
    "    fig.add_trace(go.Scatter(x=data_2023.index.month, y=data_2023['Sea Ice Extent'], mode='lines', line=dict(color='#007676', width=2), name='Year 2023'))\n",
    "\n",
    "# Update layout with custom legend\n",
    "fig.update_layout(\n",
    "    title='',\n",
    "    xaxis=dict(title='Month', tickmode='array', tickvals=months, ticktext=month_names, showgrid=False, title_font=dict(size=16), tickfont=dict(size=16)),\n",
    "    yaxis=dict(title='Average Sea Ice Fraction (Extent)', showgrid=False, title_font=dict(size=16), tickfont=dict(size=16)),\n",
    "    plot_bgcolor='rgba(255,255,255,1)',  # White background\n",
    "    paper_bgcolor='rgba(255,255,255,1)',  \n",
    "    legend=dict(\n",
    "        title='Legend',\n",
    "        orientation='v',\n",
    "        x=1.05,\n",
    "        y=1,\n",
    "        xanchor='left',\n",
    "        yanchor='top', \n",
    "        title_font=dict(size=16)\n",
    "    )\n",
    ")\n",
    "\n",
    "# Manually add custom legend entries\n",
    "for (start_year, end_year), color in zip(decades, decade_colors):\n",
    "    fig.add_trace(go.Scatter(x=[None], y=[None], mode='lines', name=f'{start_year}-{end_year} 25th Percentile', line=dict(color=color, width=10)))\n",
    "    fig.add_trace(go.Scatter(x=[None], y=[None], mode='lines', name=f'{start_year}-{end_year} 75th Percentile', line=dict(color=color, width=10)))\n",
    "\n",
    "fig.show()\n",
    "\n",
    "fig.write_image('/Users/casey/Desktop/blue-dot/reports/figures/sea_ice_frac_plot.svg', width = 1250, height = 700)"
   ]
  },
  {
   "cell_type": "markdown",
   "metadata": {},
   "source": [
    "## Export just shape of the data for visual"
   ]
  },
  {
   "cell_type": "code",
   "execution_count": 12,
   "metadata": {},
   "outputs": [
    {
     "data": {
      "application/vnd.plotly.v1+json": {
       "config": {
        "plotlyServerURL": "https://plot.ly"
       },
       "data": [
        {
         "line": {
          "color": "#b1ffff",
          "width": 1
         },
         "mode": "lines",
         "name": "1981-1990 25th Pctl",
         "showlegend": false,
         "type": "scatter",
         "x": [
          1,
          2,
          3,
          4,
          5,
          6,
          7,
          8,
          9,
          10,
          11,
          12
         ],
         "y": [
          0.1822800599038601,
          0.18391869217157364,
          0.18541322275996208,
          0.1839982196688652,
          0.15365808829665184,
          0.09222518280148506,
          0.040344431065022945,
          0.008290012134239078,
          0.004449499654583633,
          0.026802307926118374,
          0.11628792993724346,
          0.16880463063716888
         ]
        },
        {
         "fill": "tonexty",
         "fillcolor": "#b1ffff",
         "line": {
          "color": "#b1ffff",
          "width": 1
         },
         "mode": "lines",
         "name": "1981-1990 75th Pctl",
         "showlegend": false,
         "type": "scatter",
         "x": [
          1,
          2,
          3,
          4,
          5,
          6,
          7,
          8,
          9,
          10,
          11,
          12
         ],
         "y": [
          0.1904035396873951,
          0.191507488489151,
          0.19421666488051414,
          0.1921771727502346,
          0.1722470000386238,
          0.1382976733148098,
          0.06678935699164867,
          0.03626842750236392,
          0.021608272567391396,
          0.07253994047641754,
          0.1410103365778923,
          0.18048839643597603
         ]
        },
        {
         "line": {
          "color": "#00ebeb",
          "width": 1
         },
         "mode": "lines",
         "name": "1991-2000 25th Pctl",
         "showlegend": false,
         "type": "scatter",
         "x": [
          1,
          2,
          3,
          4,
          5,
          6,
          7,
          8,
          9,
          10,
          11,
          12
         ],
         "y": [
          0.18693799525499344,
          0.18843773007392883,
          0.18629247695207596,
          0.18434428796172142,
          0.15007056668400764,
          0.09434756636619568,
          0.02788578998297453,
          0.0028541554347611964,
          0.0036591955577023327,
          0.024001408834010363,
          0.0748366191983223,
          0.17086010798811913
         ]
        },
        {
         "fill": "tonexty",
         "fillcolor": "#00ebeb",
         "line": {
          "color": "#00ebeb",
          "width": 1
         },
         "mode": "lines",
         "name": "1991-2000 75th Pctl",
         "showlegend": false,
         "type": "scatter",
         "x": [
          1,
          2,
          3,
          4,
          5,
          6,
          7,
          8,
          9,
          10,
          11,
          12
         ],
         "y": [
          0.19018777459859848,
          0.19327179342508316,
          0.19200440868735313,
          0.19053137302398682,
          0.17087406292557716,
          0.1293634343892336,
          0.055369678884744644,
          0.015134575311094522,
          0.018307987367734313,
          0.052162240259349346,
          0.11729537509381771,
          0.18426130712032318
         ]
        },
        {
         "line": {
          "color": "#00c4c4",
          "width": 1
         },
         "mode": "lines",
         "name": "2001-2010 25th Pctl",
         "showlegend": false,
         "type": "scatter",
         "x": [
          1,
          2,
          3,
          4,
          5,
          6,
          7,
          8,
          9,
          10,
          11,
          12
         ],
         "y": [
          0.18106825277209282,
          0.18436672911047935,
          0.1884574070572853,
          0.18135935440659523,
          0.14857353642582893,
          0.07514273934066296,
          0.012922507477924228,
          0.0009088442020583898,
          0.00031713971111457795,
          0.009886630810797215,
          0.07575192488729954,
          0.16678451746702194
         ]
        },
        {
         "fill": "tonexty",
         "fillcolor": "#00c4c4",
         "line": {
          "color": "#00c4c4",
          "width": 1
         },
         "mode": "lines",
         "name": "2001-2010 75th Pctl",
         "showlegend": false,
         "type": "scatter",
         "x": [
          1,
          2,
          3,
          4,
          5,
          6,
          7,
          8,
          9,
          10,
          11,
          12
         ],
         "y": [
          0.20307613909244537,
          0.2064211741089821,
          0.2025994062423706,
          0.20922719687223434,
          0.16788288950920105,
          0.08739073015749454,
          0.047318282537162304,
          0.012624028837308288,
          0.0038513168692588806,
          0.02285748766735196,
          0.11330620758235455,
          0.18703193590044975
         ]
        },
        {
         "line": {
          "color": "#009d9d",
          "width": 1
         },
         "mode": "lines",
         "name": "2011-2022 25th Pctl",
         "showlegend": false,
         "type": "scatter",
         "x": [
          1,
          2,
          3,
          4,
          5,
          6,
          7,
          8,
          9,
          10,
          11,
          12
         ],
         "y": [
          0.1970141865313053,
          0.20189980417490005,
          0.20331192389130592,
          0.18876279890537262,
          0.11253340914845467,
          0.053620762191712856,
          0.011132407234981656,
          0.00018821155754267238,
          0.0007995454361662269,
          0.0058673652820289135,
          0.0651714988052845,
          0.15772471576929092
         ]
        },
        {
         "fill": "tonexty",
         "fillcolor": "#009d9d",
         "line": {
          "color": "#009d9d",
          "width": 1
         },
         "mode": "lines",
         "name": "2011-2022 75th Pctl",
         "showlegend": false,
         "type": "scatter",
         "x": [
          1,
          2,
          3,
          4,
          5,
          6,
          7,
          8,
          9,
          10,
          11,
          12
         ],
         "y": [
          0.20757214725017548,
          0.21035847812891006,
          0.21308286488056183,
          0.2074100226163864,
          0.1646217592060566,
          0.08240364491939545,
          0.020227645989507437,
          0.001028912010951899,
          0.001408028940204531,
          0.013182905036956072,
          0.0831838920712471,
          0.18478607758879662
         ]
        },
        {
         "line": {
          "color": "#007676",
          "width": 2
         },
         "mode": "lines",
         "name": "Year 2023",
         "type": "scatter",
         "x": [
          1,
          2,
          3,
          4,
          5,
          6,
          7,
          8,
          9,
          10,
          11,
          12
         ],
         "y": [
          0.20088353753089905,
          0.20808571577072144,
          0.20793235301971436,
          0.21016432344913483,
          0.17902381718158722,
          0.0983843207359314,
          0.016506895422935486,
          0.00003418261621845886,
          0,
          0.00043609418207779527,
          0.05319080874323845,
          0.17476655542850494
         ]
        },
        {
         "line": {
          "color": "#b1ffff",
          "width": 10
         },
         "mode": "lines",
         "name": "1981-1990 25th Percentile",
         "type": "scatter",
         "x": [
          null
         ],
         "y": [
          null
         ]
        },
        {
         "line": {
          "color": "#b1ffff",
          "width": 10
         },
         "mode": "lines",
         "name": "1981-1990 75th Percentile",
         "type": "scatter",
         "x": [
          null
         ],
         "y": [
          null
         ]
        },
        {
         "line": {
          "color": "#00ebeb",
          "width": 10
         },
         "mode": "lines",
         "name": "1991-2000 25th Percentile",
         "type": "scatter",
         "x": [
          null
         ],
         "y": [
          null
         ]
        },
        {
         "line": {
          "color": "#00ebeb",
          "width": 10
         },
         "mode": "lines",
         "name": "1991-2000 75th Percentile",
         "type": "scatter",
         "x": [
          null
         ],
         "y": [
          null
         ]
        },
        {
         "line": {
          "color": "#00c4c4",
          "width": 10
         },
         "mode": "lines",
         "name": "2001-2010 25th Percentile",
         "type": "scatter",
         "x": [
          null
         ],
         "y": [
          null
         ]
        },
        {
         "line": {
          "color": "#00c4c4",
          "width": 10
         },
         "mode": "lines",
         "name": "2001-2010 75th Percentile",
         "type": "scatter",
         "x": [
          null
         ],
         "y": [
          null
         ]
        },
        {
         "line": {
          "color": "#009d9d",
          "width": 10
         },
         "mode": "lines",
         "name": "2011-2022 25th Percentile",
         "type": "scatter",
         "x": [
          null
         ],
         "y": [
          null
         ]
        },
        {
         "line": {
          "color": "#009d9d",
          "width": 10
         },
         "mode": "lines",
         "name": "2011-2022 75th Percentile",
         "type": "scatter",
         "x": [
          null
         ],
         "y": [
          null
         ]
        }
       ],
       "layout": {
        "legend": {
         "orientation": "v",
         "title": {
          "font": {
           "size": 16
          },
          "text": "Legend"
         },
         "x": 1.05,
         "xanchor": "left",
         "y": 1,
         "yanchor": "top"
        },
        "paper_bgcolor": "rgba(0,0,0,0)",
        "plot_bgcolor": "rgba(0,0,0,0)",
        "showlegend": false,
        "template": {
         "data": {
          "bar": [
           {
            "error_x": {
             "color": "#2a3f5f"
            },
            "error_y": {
             "color": "#2a3f5f"
            },
            "marker": {
             "line": {
              "color": "#E5ECF6",
              "width": 0.5
             },
             "pattern": {
              "fillmode": "overlay",
              "size": 10,
              "solidity": 0.2
             }
            },
            "type": "bar"
           }
          ],
          "barpolar": [
           {
            "marker": {
             "line": {
              "color": "#E5ECF6",
              "width": 0.5
             },
             "pattern": {
              "fillmode": "overlay",
              "size": 10,
              "solidity": 0.2
             }
            },
            "type": "barpolar"
           }
          ],
          "carpet": [
           {
            "aaxis": {
             "endlinecolor": "#2a3f5f",
             "gridcolor": "white",
             "linecolor": "white",
             "minorgridcolor": "white",
             "startlinecolor": "#2a3f5f"
            },
            "baxis": {
             "endlinecolor": "#2a3f5f",
             "gridcolor": "white",
             "linecolor": "white",
             "minorgridcolor": "white",
             "startlinecolor": "#2a3f5f"
            },
            "type": "carpet"
           }
          ],
          "choropleth": [
           {
            "colorbar": {
             "outlinewidth": 0,
             "ticks": ""
            },
            "type": "choropleth"
           }
          ],
          "contour": [
           {
            "colorbar": {
             "outlinewidth": 0,
             "ticks": ""
            },
            "colorscale": [
             [
              0,
              "#0d0887"
             ],
             [
              0.1111111111111111,
              "#46039f"
             ],
             [
              0.2222222222222222,
              "#7201a8"
             ],
             [
              0.3333333333333333,
              "#9c179e"
             ],
             [
              0.4444444444444444,
              "#bd3786"
             ],
             [
              0.5555555555555556,
              "#d8576b"
             ],
             [
              0.6666666666666666,
              "#ed7953"
             ],
             [
              0.7777777777777778,
              "#fb9f3a"
             ],
             [
              0.8888888888888888,
              "#fdca26"
             ],
             [
              1,
              "#f0f921"
             ]
            ],
            "type": "contour"
           }
          ],
          "contourcarpet": [
           {
            "colorbar": {
             "outlinewidth": 0,
             "ticks": ""
            },
            "type": "contourcarpet"
           }
          ],
          "heatmap": [
           {
            "colorbar": {
             "outlinewidth": 0,
             "ticks": ""
            },
            "colorscale": [
             [
              0,
              "#0d0887"
             ],
             [
              0.1111111111111111,
              "#46039f"
             ],
             [
              0.2222222222222222,
              "#7201a8"
             ],
             [
              0.3333333333333333,
              "#9c179e"
             ],
             [
              0.4444444444444444,
              "#bd3786"
             ],
             [
              0.5555555555555556,
              "#d8576b"
             ],
             [
              0.6666666666666666,
              "#ed7953"
             ],
             [
              0.7777777777777778,
              "#fb9f3a"
             ],
             [
              0.8888888888888888,
              "#fdca26"
             ],
             [
              1,
              "#f0f921"
             ]
            ],
            "type": "heatmap"
           }
          ],
          "heatmapgl": [
           {
            "colorbar": {
             "outlinewidth": 0,
             "ticks": ""
            },
            "colorscale": [
             [
              0,
              "#0d0887"
             ],
             [
              0.1111111111111111,
              "#46039f"
             ],
             [
              0.2222222222222222,
              "#7201a8"
             ],
             [
              0.3333333333333333,
              "#9c179e"
             ],
             [
              0.4444444444444444,
              "#bd3786"
             ],
             [
              0.5555555555555556,
              "#d8576b"
             ],
             [
              0.6666666666666666,
              "#ed7953"
             ],
             [
              0.7777777777777778,
              "#fb9f3a"
             ],
             [
              0.8888888888888888,
              "#fdca26"
             ],
             [
              1,
              "#f0f921"
             ]
            ],
            "type": "heatmapgl"
           }
          ],
          "histogram": [
           {
            "marker": {
             "pattern": {
              "fillmode": "overlay",
              "size": 10,
              "solidity": 0.2
             }
            },
            "type": "histogram"
           }
          ],
          "histogram2d": [
           {
            "colorbar": {
             "outlinewidth": 0,
             "ticks": ""
            },
            "colorscale": [
             [
              0,
              "#0d0887"
             ],
             [
              0.1111111111111111,
              "#46039f"
             ],
             [
              0.2222222222222222,
              "#7201a8"
             ],
             [
              0.3333333333333333,
              "#9c179e"
             ],
             [
              0.4444444444444444,
              "#bd3786"
             ],
             [
              0.5555555555555556,
              "#d8576b"
             ],
             [
              0.6666666666666666,
              "#ed7953"
             ],
             [
              0.7777777777777778,
              "#fb9f3a"
             ],
             [
              0.8888888888888888,
              "#fdca26"
             ],
             [
              1,
              "#f0f921"
             ]
            ],
            "type": "histogram2d"
           }
          ],
          "histogram2dcontour": [
           {
            "colorbar": {
             "outlinewidth": 0,
             "ticks": ""
            },
            "colorscale": [
             [
              0,
              "#0d0887"
             ],
             [
              0.1111111111111111,
              "#46039f"
             ],
             [
              0.2222222222222222,
              "#7201a8"
             ],
             [
              0.3333333333333333,
              "#9c179e"
             ],
             [
              0.4444444444444444,
              "#bd3786"
             ],
             [
              0.5555555555555556,
              "#d8576b"
             ],
             [
              0.6666666666666666,
              "#ed7953"
             ],
             [
              0.7777777777777778,
              "#fb9f3a"
             ],
             [
              0.8888888888888888,
              "#fdca26"
             ],
             [
              1,
              "#f0f921"
             ]
            ],
            "type": "histogram2dcontour"
           }
          ],
          "mesh3d": [
           {
            "colorbar": {
             "outlinewidth": 0,
             "ticks": ""
            },
            "type": "mesh3d"
           }
          ],
          "parcoords": [
           {
            "line": {
             "colorbar": {
              "outlinewidth": 0,
              "ticks": ""
             }
            },
            "type": "parcoords"
           }
          ],
          "pie": [
           {
            "automargin": true,
            "type": "pie"
           }
          ],
          "scatter": [
           {
            "fillpattern": {
             "fillmode": "overlay",
             "size": 10,
             "solidity": 0.2
            },
            "type": "scatter"
           }
          ],
          "scatter3d": [
           {
            "line": {
             "colorbar": {
              "outlinewidth": 0,
              "ticks": ""
             }
            },
            "marker": {
             "colorbar": {
              "outlinewidth": 0,
              "ticks": ""
             }
            },
            "type": "scatter3d"
           }
          ],
          "scattercarpet": [
           {
            "marker": {
             "colorbar": {
              "outlinewidth": 0,
              "ticks": ""
             }
            },
            "type": "scattercarpet"
           }
          ],
          "scattergeo": [
           {
            "marker": {
             "colorbar": {
              "outlinewidth": 0,
              "ticks": ""
             }
            },
            "type": "scattergeo"
           }
          ],
          "scattergl": [
           {
            "marker": {
             "colorbar": {
              "outlinewidth": 0,
              "ticks": ""
             }
            },
            "type": "scattergl"
           }
          ],
          "scattermapbox": [
           {
            "marker": {
             "colorbar": {
              "outlinewidth": 0,
              "ticks": ""
             }
            },
            "type": "scattermapbox"
           }
          ],
          "scatterpolar": [
           {
            "marker": {
             "colorbar": {
              "outlinewidth": 0,
              "ticks": ""
             }
            },
            "type": "scatterpolar"
           }
          ],
          "scatterpolargl": [
           {
            "marker": {
             "colorbar": {
              "outlinewidth": 0,
              "ticks": ""
             }
            },
            "type": "scatterpolargl"
           }
          ],
          "scatterternary": [
           {
            "marker": {
             "colorbar": {
              "outlinewidth": 0,
              "ticks": ""
             }
            },
            "type": "scatterternary"
           }
          ],
          "surface": [
           {
            "colorbar": {
             "outlinewidth": 0,
             "ticks": ""
            },
            "colorscale": [
             [
              0,
              "#0d0887"
             ],
             [
              0.1111111111111111,
              "#46039f"
             ],
             [
              0.2222222222222222,
              "#7201a8"
             ],
             [
              0.3333333333333333,
              "#9c179e"
             ],
             [
              0.4444444444444444,
              "#bd3786"
             ],
             [
              0.5555555555555556,
              "#d8576b"
             ],
             [
              0.6666666666666666,
              "#ed7953"
             ],
             [
              0.7777777777777778,
              "#fb9f3a"
             ],
             [
              0.8888888888888888,
              "#fdca26"
             ],
             [
              1,
              "#f0f921"
             ]
            ],
            "type": "surface"
           }
          ],
          "table": [
           {
            "cells": {
             "fill": {
              "color": "#EBF0F8"
             },
             "line": {
              "color": "white"
             }
            },
            "header": {
             "fill": {
              "color": "#C8D4E3"
             },
             "line": {
              "color": "white"
             }
            },
            "type": "table"
           }
          ]
         },
         "layout": {
          "annotationdefaults": {
           "arrowcolor": "#2a3f5f",
           "arrowhead": 0,
           "arrowwidth": 1
          },
          "autotypenumbers": "strict",
          "coloraxis": {
           "colorbar": {
            "outlinewidth": 0,
            "ticks": ""
           }
          },
          "colorscale": {
           "diverging": [
            [
             0,
             "#8e0152"
            ],
            [
             0.1,
             "#c51b7d"
            ],
            [
             0.2,
             "#de77ae"
            ],
            [
             0.3,
             "#f1b6da"
            ],
            [
             0.4,
             "#fde0ef"
            ],
            [
             0.5,
             "#f7f7f7"
            ],
            [
             0.6,
             "#e6f5d0"
            ],
            [
             0.7,
             "#b8e186"
            ],
            [
             0.8,
             "#7fbc41"
            ],
            [
             0.9,
             "#4d9221"
            ],
            [
             1,
             "#276419"
            ]
           ],
           "sequential": [
            [
             0,
             "#0d0887"
            ],
            [
             0.1111111111111111,
             "#46039f"
            ],
            [
             0.2222222222222222,
             "#7201a8"
            ],
            [
             0.3333333333333333,
             "#9c179e"
            ],
            [
             0.4444444444444444,
             "#bd3786"
            ],
            [
             0.5555555555555556,
             "#d8576b"
            ],
            [
             0.6666666666666666,
             "#ed7953"
            ],
            [
             0.7777777777777778,
             "#fb9f3a"
            ],
            [
             0.8888888888888888,
             "#fdca26"
            ],
            [
             1,
             "#f0f921"
            ]
           ],
           "sequentialminus": [
            [
             0,
             "#0d0887"
            ],
            [
             0.1111111111111111,
             "#46039f"
            ],
            [
             0.2222222222222222,
             "#7201a8"
            ],
            [
             0.3333333333333333,
             "#9c179e"
            ],
            [
             0.4444444444444444,
             "#bd3786"
            ],
            [
             0.5555555555555556,
             "#d8576b"
            ],
            [
             0.6666666666666666,
             "#ed7953"
            ],
            [
             0.7777777777777778,
             "#fb9f3a"
            ],
            [
             0.8888888888888888,
             "#fdca26"
            ],
            [
             1,
             "#f0f921"
            ]
           ]
          },
          "colorway": [
           "#636efa",
           "#EF553B",
           "#00cc96",
           "#ab63fa",
           "#FFA15A",
           "#19d3f3",
           "#FF6692",
           "#B6E880",
           "#FF97FF",
           "#FECB52"
          ],
          "font": {
           "color": "#2a3f5f"
          },
          "geo": {
           "bgcolor": "white",
           "lakecolor": "white",
           "landcolor": "#E5ECF6",
           "showlakes": true,
           "showland": true,
           "subunitcolor": "white"
          },
          "hoverlabel": {
           "align": "left"
          },
          "hovermode": "closest",
          "mapbox": {
           "style": "light"
          },
          "paper_bgcolor": "white",
          "plot_bgcolor": "#E5ECF6",
          "polar": {
           "angularaxis": {
            "gridcolor": "white",
            "linecolor": "white",
            "ticks": ""
           },
           "bgcolor": "#E5ECF6",
           "radialaxis": {
            "gridcolor": "white",
            "linecolor": "white",
            "ticks": ""
           }
          },
          "scene": {
           "xaxis": {
            "backgroundcolor": "#E5ECF6",
            "gridcolor": "white",
            "gridwidth": 2,
            "linecolor": "white",
            "showbackground": true,
            "ticks": "",
            "zerolinecolor": "white"
           },
           "yaxis": {
            "backgroundcolor": "#E5ECF6",
            "gridcolor": "white",
            "gridwidth": 2,
            "linecolor": "white",
            "showbackground": true,
            "ticks": "",
            "zerolinecolor": "white"
           },
           "zaxis": {
            "backgroundcolor": "#E5ECF6",
            "gridcolor": "white",
            "gridwidth": 2,
            "linecolor": "white",
            "showbackground": true,
            "ticks": "",
            "zerolinecolor": "white"
           }
          },
          "shapedefaults": {
           "line": {
            "color": "#2a3f5f"
           }
          },
          "ternary": {
           "aaxis": {
            "gridcolor": "white",
            "linecolor": "white",
            "ticks": ""
           },
           "baxis": {
            "gridcolor": "white",
            "linecolor": "white",
            "ticks": ""
           },
           "bgcolor": "#E5ECF6",
           "caxis": {
            "gridcolor": "white",
            "linecolor": "white",
            "ticks": ""
           }
          },
          "title": {
           "x": 0.05
          },
          "xaxis": {
           "automargin": true,
           "gridcolor": "white",
           "linecolor": "white",
           "ticks": "",
           "title": {
            "standoff": 15
           },
           "zerolinecolor": "white",
           "zerolinewidth": 2
          },
          "yaxis": {
           "automargin": true,
           "gridcolor": "white",
           "linecolor": "white",
           "ticks": "",
           "title": {
            "standoff": 15
           },
           "zerolinecolor": "white",
           "zerolinewidth": 2
          }
         }
        },
        "title": {
         "text": ""
        },
        "xaxis": {
         "showgrid": false,
         "tickfont": {
          "size": 16
         },
         "tickmode": "array",
         "ticktext": [
          "Jan",
          "Feb",
          "Mar",
          "Apr",
          "May",
          "Jun",
          "Jul",
          "Aug",
          "Sep",
          "Oct",
          "Nov",
          "Dec"
         ],
         "tickvals": [
          1,
          2,
          3,
          4,
          5,
          6,
          7,
          8,
          9,
          10,
          11,
          12
         ],
         "title": {
          "font": {
           "size": 16
          },
          "text": "Month"
         },
         "visible": false
        },
        "yaxis": {
         "showgrid": false,
         "tickfont": {
          "size": 16
         },
         "title": {
          "font": {
           "size": 16
          },
          "text": "Average Sea Ice Fraction (Extent)"
         },
         "visible": false
        }
       }
      }
     },
     "metadata": {},
     "output_type": "display_data"
    }
   ],
   "source": [
    "fig.update_layout(showlegend=False, xaxis_visible=False, yaxis_visible=False, plot_bgcolor='rgba(0,0,0,0)', paper_bgcolor='rgba(0,0,0,0)', title='')\n",
    "fig.show()\n",
    "fig.write_image('/Users/casey/Desktop/blue-dot/reports/figures/sea_ice_frac_shape.svg', width = 1250, height = 700)"
   ]
  },
  {
   "cell_type": "markdown",
   "metadata": {},
   "source": [
    "## Plotting final water temperature plot for report"
   ]
  },
  {
   "cell_type": "code",
   "execution_count": 13,
   "metadata": {},
   "outputs": [
    {
     "data": {
      "application/vnd.plotly.v1+json": {
       "config": {
        "plotlyServerURL": "https://plot.ly"
       },
       "data": [
        {
         "line": {
          "color": "#ff9dff",
          "width": 1
         },
         "mode": "lines",
         "name": "1981-1990 25th Percentile",
         "showlegend": true,
         "type": "scatter",
         "x": [
          1,
          2,
          3,
          4,
          5,
          6,
          7,
          8,
          9,
          10,
          11,
          12
         ],
         "y": [
          0.009840271435678005,
          0.006823862669989467,
          0.006227678735740483,
          0.014756579883396626,
          0.14852388203144073,
          0.7981462478637695,
          1.2154761254787445,
          0.9086401164531708,
          0.7856452167034149,
          0.9442847967147827,
          0.07362266536802053,
          0.017756537534296513
         ]
        },
        {
         "fill": "tonexty",
         "fillcolor": "#ff9dff",
         "line": {
          "color": "#ff9dff",
          "width": 1
         },
         "mode": "lines",
         "name": "1981-1990 75th Percentile",
         "showlegend": true,
         "type": "scatter",
         "x": [
          1,
          2,
          3,
          4,
          5,
          6,
          7,
          8,
          9,
          10,
          11,
          12
         ],
         "y": [
          0.014388859737664461,
          0.019156217575073242,
          0.021978437900543213,
          0.06802827306091785,
          0.20816645398736,
          1.2259342670440674,
          2.0265742540359497,
          1.1578383147716522,
          1.6693075001239777,
          1.6133650541305542,
          0.2711103670299053,
          0.027730820700526237
         ]
        },
        {
         "line": {
          "color": "#ffd0b1",
          "width": 1
         },
         "mode": "lines",
         "name": "1991-2000 25th Percentile",
         "showlegend": true,
         "type": "scatter",
         "x": [
          1,
          2,
          3,
          4,
          5,
          6,
          7,
          8,
          9,
          10,
          11,
          12
         ],
         "y": [
          0.014350188197568059,
          0.007205713423900306,
          0.008776488015428185,
          0.03311094734817743,
          0.21336039155721664,
          0.6502945870161057,
          1.2805421650409698,
          0.6001799404621124,
          0.8524713665246964,
          0.8585038632154465,
          0.17675471678376198,
          0.033537354320287704
         ]
        },
        {
         "fill": "tonexty",
         "fillcolor": "#ffd0b1",
         "line": {
          "color": "#ffd0b1",
          "width": 1
         },
         "mode": "lines",
         "name": "1991-2000 75th Percentile",
         "showlegend": true,
         "type": "scatter",
         "x": [
          1,
          2,
          3,
          4,
          5,
          6,
          7,
          8,
          9,
          10,
          11,
          12
         ],
         "y": [
          0.020912677980959415,
          0.013535281643271446,
          0.019917893689125776,
          0.04601801745593548,
          0.4797203317284584,
          1.36539226770401,
          2.5760152339935303,
          0.8519479185342789,
          1.5812636017799377,
          1.8771924376487732,
          0.3540479987859726,
          0.056774577125906944
         ]
        },
        {
         "line": {
          "color": "#ffc4ff",
          "width": 1
         },
         "mode": "lines",
         "name": "2001-2010 25th Percentile",
         "showlegend": true,
         "type": "scatter",
         "x": [
          1,
          2,
          3,
          4,
          5,
          6,
          7,
          8,
          9,
          10,
          11,
          12
         ],
         "y": [
          0.0015778153319843113,
          0.0028140954673290253,
          0.00030887616594554856,
          0.015719704562798142,
          0.22458600252866745,
          0.7111760675907135,
          1.0121718794107437,
          0.7100327163934708,
          0.888044148683548,
          1.3046386539936066,
          0.3070369064807892,
          0.02327051991596818
         ]
        },
        {
         "fill": "tonexty",
         "fillcolor": "#ffc4ff",
         "line": {
          "color": "#ffc4ff",
          "width": 1
         },
         "mode": "lines",
         "name": "2001-2010 75th Percentile",
         "showlegend": true,
         "type": "scatter",
         "x": [
          1,
          2,
          3,
          4,
          5,
          6,
          7,
          8,
          9,
          10,
          11,
          12
         ],
         "y": [
          0.02333797514438629,
          0.01565743051469326,
          0.027142353355884552,
          0.06880111433565617,
          0.3765507787466049,
          1.5421717464923859,
          2.381105065345764,
          0.9895347654819489,
          1.5289421379566193,
          1.8782914280891418,
          0.6258487403392792,
          0.055698152631521225
         ]
        },
        {
         "line": {
          "color": "#ffb889",
          "width": 1
         },
         "mode": "lines",
         "name": "2011-2022 25th Percentile",
         "showlegend": true,
         "type": "scatter",
         "x": [
          1,
          2,
          3,
          4,
          5,
          6,
          7,
          8,
          9,
          10,
          11,
          12
         ],
         "y": [
          0.0013016517768846825,
          0.00029408931914076675,
          0.0008537025132682174,
          0.01873024133965373,
          0.46234260499477386,
          1.8422691822052002,
          1.6750235259532928,
          0.628967210650444,
          1.2621210217475891,
          1.164191722869873,
          0.40346165001392365,
          0.01379872765392065
         ]
        },
        {
         "fill": "tonexty",
         "fillcolor": "#ffb889",
         "line": {
          "color": "#ffb889",
          "width": 1
         },
         "mode": "lines",
         "name": "2011-2022 75th Percentile",
         "showlegend": true,
         "type": "scatter",
         "x": [
          1,
          2,
          3,
          4,
          5,
          6,
          7,
          8,
          9,
          10,
          11,
          12
         ],
         "y": [
          0.009207146940752864,
          0.006510775885544717,
          0.007968045712914318,
          0.0722821056842804,
          0.8055328875780106,
          3.3125771284103394,
          2.3105637431144714,
          1.0500854700803757,
          1.7670228779315948,
          1.986100047826767,
          0.701116219162941,
          0.07212213799357414
         ]
        },
        {
         "line": {
          "color": "#ff954e",
          "width": 2
         },
         "mode": "lines",
         "name": "Year 2023 Water Temp",
         "type": "scatter",
         "x": [
          1,
          2,
          3,
          4,
          5,
          6,
          7,
          8,
          9,
          10,
          11,
          12
         ],
         "y": [
          0.0006476072012446821,
          0.000028720756745315157,
          0.004475337918847799,
          0.014894758351147175,
          0.2796270251274109,
          2.374969482421875,
          4.918767929077148,
          1.5258753299713135,
          0.8641899824142456,
          1.9182215929031372,
          0.5511137247085571,
          0.07085570693016052
         ]
        }
       ],
       "layout": {
        "legend": {
         "orientation": "v",
         "title": {
          "font": {
           "size": 16
          },
          "text": "Legend"
         },
         "x": 1.05,
         "xanchor": "left",
         "y": 1,
         "yanchor": "top"
        },
        "paper_bgcolor": "rgba(255,255,255,1)",
        "plot_bgcolor": "rgba(255,255,255,1)",
        "template": {
         "data": {
          "bar": [
           {
            "error_x": {
             "color": "#2a3f5f"
            },
            "error_y": {
             "color": "#2a3f5f"
            },
            "marker": {
             "line": {
              "color": "#E5ECF6",
              "width": 0.5
             },
             "pattern": {
              "fillmode": "overlay",
              "size": 10,
              "solidity": 0.2
             }
            },
            "type": "bar"
           }
          ],
          "barpolar": [
           {
            "marker": {
             "line": {
              "color": "#E5ECF6",
              "width": 0.5
             },
             "pattern": {
              "fillmode": "overlay",
              "size": 10,
              "solidity": 0.2
             }
            },
            "type": "barpolar"
           }
          ],
          "carpet": [
           {
            "aaxis": {
             "endlinecolor": "#2a3f5f",
             "gridcolor": "white",
             "linecolor": "white",
             "minorgridcolor": "white",
             "startlinecolor": "#2a3f5f"
            },
            "baxis": {
             "endlinecolor": "#2a3f5f",
             "gridcolor": "white",
             "linecolor": "white",
             "minorgridcolor": "white",
             "startlinecolor": "#2a3f5f"
            },
            "type": "carpet"
           }
          ],
          "choropleth": [
           {
            "colorbar": {
             "outlinewidth": 0,
             "ticks": ""
            },
            "type": "choropleth"
           }
          ],
          "contour": [
           {
            "colorbar": {
             "outlinewidth": 0,
             "ticks": ""
            },
            "colorscale": [
             [
              0,
              "#0d0887"
             ],
             [
              0.1111111111111111,
              "#46039f"
             ],
             [
              0.2222222222222222,
              "#7201a8"
             ],
             [
              0.3333333333333333,
              "#9c179e"
             ],
             [
              0.4444444444444444,
              "#bd3786"
             ],
             [
              0.5555555555555556,
              "#d8576b"
             ],
             [
              0.6666666666666666,
              "#ed7953"
             ],
             [
              0.7777777777777778,
              "#fb9f3a"
             ],
             [
              0.8888888888888888,
              "#fdca26"
             ],
             [
              1,
              "#f0f921"
             ]
            ],
            "type": "contour"
           }
          ],
          "contourcarpet": [
           {
            "colorbar": {
             "outlinewidth": 0,
             "ticks": ""
            },
            "type": "contourcarpet"
           }
          ],
          "heatmap": [
           {
            "colorbar": {
             "outlinewidth": 0,
             "ticks": ""
            },
            "colorscale": [
             [
              0,
              "#0d0887"
             ],
             [
              0.1111111111111111,
              "#46039f"
             ],
             [
              0.2222222222222222,
              "#7201a8"
             ],
             [
              0.3333333333333333,
              "#9c179e"
             ],
             [
              0.4444444444444444,
              "#bd3786"
             ],
             [
              0.5555555555555556,
              "#d8576b"
             ],
             [
              0.6666666666666666,
              "#ed7953"
             ],
             [
              0.7777777777777778,
              "#fb9f3a"
             ],
             [
              0.8888888888888888,
              "#fdca26"
             ],
             [
              1,
              "#f0f921"
             ]
            ],
            "type": "heatmap"
           }
          ],
          "heatmapgl": [
           {
            "colorbar": {
             "outlinewidth": 0,
             "ticks": ""
            },
            "colorscale": [
             [
              0,
              "#0d0887"
             ],
             [
              0.1111111111111111,
              "#46039f"
             ],
             [
              0.2222222222222222,
              "#7201a8"
             ],
             [
              0.3333333333333333,
              "#9c179e"
             ],
             [
              0.4444444444444444,
              "#bd3786"
             ],
             [
              0.5555555555555556,
              "#d8576b"
             ],
             [
              0.6666666666666666,
              "#ed7953"
             ],
             [
              0.7777777777777778,
              "#fb9f3a"
             ],
             [
              0.8888888888888888,
              "#fdca26"
             ],
             [
              1,
              "#f0f921"
             ]
            ],
            "type": "heatmapgl"
           }
          ],
          "histogram": [
           {
            "marker": {
             "pattern": {
              "fillmode": "overlay",
              "size": 10,
              "solidity": 0.2
             }
            },
            "type": "histogram"
           }
          ],
          "histogram2d": [
           {
            "colorbar": {
             "outlinewidth": 0,
             "ticks": ""
            },
            "colorscale": [
             [
              0,
              "#0d0887"
             ],
             [
              0.1111111111111111,
              "#46039f"
             ],
             [
              0.2222222222222222,
              "#7201a8"
             ],
             [
              0.3333333333333333,
              "#9c179e"
             ],
             [
              0.4444444444444444,
              "#bd3786"
             ],
             [
              0.5555555555555556,
              "#d8576b"
             ],
             [
              0.6666666666666666,
              "#ed7953"
             ],
             [
              0.7777777777777778,
              "#fb9f3a"
             ],
             [
              0.8888888888888888,
              "#fdca26"
             ],
             [
              1,
              "#f0f921"
             ]
            ],
            "type": "histogram2d"
           }
          ],
          "histogram2dcontour": [
           {
            "colorbar": {
             "outlinewidth": 0,
             "ticks": ""
            },
            "colorscale": [
             [
              0,
              "#0d0887"
             ],
             [
              0.1111111111111111,
              "#46039f"
             ],
             [
              0.2222222222222222,
              "#7201a8"
             ],
             [
              0.3333333333333333,
              "#9c179e"
             ],
             [
              0.4444444444444444,
              "#bd3786"
             ],
             [
              0.5555555555555556,
              "#d8576b"
             ],
             [
              0.6666666666666666,
              "#ed7953"
             ],
             [
              0.7777777777777778,
              "#fb9f3a"
             ],
             [
              0.8888888888888888,
              "#fdca26"
             ],
             [
              1,
              "#f0f921"
             ]
            ],
            "type": "histogram2dcontour"
           }
          ],
          "mesh3d": [
           {
            "colorbar": {
             "outlinewidth": 0,
             "ticks": ""
            },
            "type": "mesh3d"
           }
          ],
          "parcoords": [
           {
            "line": {
             "colorbar": {
              "outlinewidth": 0,
              "ticks": ""
             }
            },
            "type": "parcoords"
           }
          ],
          "pie": [
           {
            "automargin": true,
            "type": "pie"
           }
          ],
          "scatter": [
           {
            "fillpattern": {
             "fillmode": "overlay",
             "size": 10,
             "solidity": 0.2
            },
            "type": "scatter"
           }
          ],
          "scatter3d": [
           {
            "line": {
             "colorbar": {
              "outlinewidth": 0,
              "ticks": ""
             }
            },
            "marker": {
             "colorbar": {
              "outlinewidth": 0,
              "ticks": ""
             }
            },
            "type": "scatter3d"
           }
          ],
          "scattercarpet": [
           {
            "marker": {
             "colorbar": {
              "outlinewidth": 0,
              "ticks": ""
             }
            },
            "type": "scattercarpet"
           }
          ],
          "scattergeo": [
           {
            "marker": {
             "colorbar": {
              "outlinewidth": 0,
              "ticks": ""
             }
            },
            "type": "scattergeo"
           }
          ],
          "scattergl": [
           {
            "marker": {
             "colorbar": {
              "outlinewidth": 0,
              "ticks": ""
             }
            },
            "type": "scattergl"
           }
          ],
          "scattermapbox": [
           {
            "marker": {
             "colorbar": {
              "outlinewidth": 0,
              "ticks": ""
             }
            },
            "type": "scattermapbox"
           }
          ],
          "scatterpolar": [
           {
            "marker": {
             "colorbar": {
              "outlinewidth": 0,
              "ticks": ""
             }
            },
            "type": "scatterpolar"
           }
          ],
          "scatterpolargl": [
           {
            "marker": {
             "colorbar": {
              "outlinewidth": 0,
              "ticks": ""
             }
            },
            "type": "scatterpolargl"
           }
          ],
          "scatterternary": [
           {
            "marker": {
             "colorbar": {
              "outlinewidth": 0,
              "ticks": ""
             }
            },
            "type": "scatterternary"
           }
          ],
          "surface": [
           {
            "colorbar": {
             "outlinewidth": 0,
             "ticks": ""
            },
            "colorscale": [
             [
              0,
              "#0d0887"
             ],
             [
              0.1111111111111111,
              "#46039f"
             ],
             [
              0.2222222222222222,
              "#7201a8"
             ],
             [
              0.3333333333333333,
              "#9c179e"
             ],
             [
              0.4444444444444444,
              "#bd3786"
             ],
             [
              0.5555555555555556,
              "#d8576b"
             ],
             [
              0.6666666666666666,
              "#ed7953"
             ],
             [
              0.7777777777777778,
              "#fb9f3a"
             ],
             [
              0.8888888888888888,
              "#fdca26"
             ],
             [
              1,
              "#f0f921"
             ]
            ],
            "type": "surface"
           }
          ],
          "table": [
           {
            "cells": {
             "fill": {
              "color": "#EBF0F8"
             },
             "line": {
              "color": "white"
             }
            },
            "header": {
             "fill": {
              "color": "#C8D4E3"
             },
             "line": {
              "color": "white"
             }
            },
            "type": "table"
           }
          ]
         },
         "layout": {
          "annotationdefaults": {
           "arrowcolor": "#2a3f5f",
           "arrowhead": 0,
           "arrowwidth": 1
          },
          "autotypenumbers": "strict",
          "coloraxis": {
           "colorbar": {
            "outlinewidth": 0,
            "ticks": ""
           }
          },
          "colorscale": {
           "diverging": [
            [
             0,
             "#8e0152"
            ],
            [
             0.1,
             "#c51b7d"
            ],
            [
             0.2,
             "#de77ae"
            ],
            [
             0.3,
             "#f1b6da"
            ],
            [
             0.4,
             "#fde0ef"
            ],
            [
             0.5,
             "#f7f7f7"
            ],
            [
             0.6,
             "#e6f5d0"
            ],
            [
             0.7,
             "#b8e186"
            ],
            [
             0.8,
             "#7fbc41"
            ],
            [
             0.9,
             "#4d9221"
            ],
            [
             1,
             "#276419"
            ]
           ],
           "sequential": [
            [
             0,
             "#0d0887"
            ],
            [
             0.1111111111111111,
             "#46039f"
            ],
            [
             0.2222222222222222,
             "#7201a8"
            ],
            [
             0.3333333333333333,
             "#9c179e"
            ],
            [
             0.4444444444444444,
             "#bd3786"
            ],
            [
             0.5555555555555556,
             "#d8576b"
            ],
            [
             0.6666666666666666,
             "#ed7953"
            ],
            [
             0.7777777777777778,
             "#fb9f3a"
            ],
            [
             0.8888888888888888,
             "#fdca26"
            ],
            [
             1,
             "#f0f921"
            ]
           ],
           "sequentialminus": [
            [
             0,
             "#0d0887"
            ],
            [
             0.1111111111111111,
             "#46039f"
            ],
            [
             0.2222222222222222,
             "#7201a8"
            ],
            [
             0.3333333333333333,
             "#9c179e"
            ],
            [
             0.4444444444444444,
             "#bd3786"
            ],
            [
             0.5555555555555556,
             "#d8576b"
            ],
            [
             0.6666666666666666,
             "#ed7953"
            ],
            [
             0.7777777777777778,
             "#fb9f3a"
            ],
            [
             0.8888888888888888,
             "#fdca26"
            ],
            [
             1,
             "#f0f921"
            ]
           ]
          },
          "colorway": [
           "#636efa",
           "#EF553B",
           "#00cc96",
           "#ab63fa",
           "#FFA15A",
           "#19d3f3",
           "#FF6692",
           "#B6E880",
           "#FF97FF",
           "#FECB52"
          ],
          "font": {
           "color": "#2a3f5f"
          },
          "geo": {
           "bgcolor": "white",
           "lakecolor": "white",
           "landcolor": "#E5ECF6",
           "showlakes": true,
           "showland": true,
           "subunitcolor": "white"
          },
          "hoverlabel": {
           "align": "left"
          },
          "hovermode": "closest",
          "mapbox": {
           "style": "light"
          },
          "paper_bgcolor": "white",
          "plot_bgcolor": "#E5ECF6",
          "polar": {
           "angularaxis": {
            "gridcolor": "white",
            "linecolor": "white",
            "ticks": ""
           },
           "bgcolor": "#E5ECF6",
           "radialaxis": {
            "gridcolor": "white",
            "linecolor": "white",
            "ticks": ""
           }
          },
          "scene": {
           "xaxis": {
            "backgroundcolor": "#E5ECF6",
            "gridcolor": "white",
            "gridwidth": 2,
            "linecolor": "white",
            "showbackground": true,
            "ticks": "",
            "zerolinecolor": "white"
           },
           "yaxis": {
            "backgroundcolor": "#E5ECF6",
            "gridcolor": "white",
            "gridwidth": 2,
            "linecolor": "white",
            "showbackground": true,
            "ticks": "",
            "zerolinecolor": "white"
           },
           "zaxis": {
            "backgroundcolor": "#E5ECF6",
            "gridcolor": "white",
            "gridwidth": 2,
            "linecolor": "white",
            "showbackground": true,
            "ticks": "",
            "zerolinecolor": "white"
           }
          },
          "shapedefaults": {
           "line": {
            "color": "#2a3f5f"
           }
          },
          "ternary": {
           "aaxis": {
            "gridcolor": "white",
            "linecolor": "white",
            "ticks": ""
           },
           "baxis": {
            "gridcolor": "white",
            "linecolor": "white",
            "ticks": ""
           },
           "bgcolor": "#E5ECF6",
           "caxis": {
            "gridcolor": "white",
            "linecolor": "white",
            "ticks": ""
           }
          },
          "title": {
           "x": 0.05
          },
          "xaxis": {
           "automargin": true,
           "gridcolor": "white",
           "linecolor": "white",
           "ticks": "",
           "title": {
            "standoff": 15
           },
           "zerolinecolor": "white",
           "zerolinewidth": 2
          },
          "yaxis": {
           "automargin": true,
           "gridcolor": "white",
           "linecolor": "white",
           "ticks": "",
           "title": {
            "standoff": 15
           },
           "zerolinecolor": "white",
           "zerolinewidth": 2
          }
         }
        },
        "title": {
         "text": ""
        },
        "xaxis": {
         "showgrid": false,
         "tickfont": {
          "size": 16
         },
         "tickmode": "array",
         "ticktext": [
          "Jan",
          "Feb",
          "Mar",
          "Apr",
          "May",
          "Jun",
          "Jul",
          "Aug",
          "Sep",
          "Oct",
          "Nov",
          "Dec"
         ],
         "tickvals": [
          1,
          2,
          3,
          4,
          5,
          6,
          7,
          8,
          9,
          10,
          11,
          12
         ],
         "title": {
          "font": {
           "size": 16
          },
          "text": "Month"
         }
        },
        "yaxis": {
         "showgrid": false,
         "tickfont": {
          "size": 16
         },
         "title": {
          "font": {
           "size": 16
          },
          "text": "Average Water Temperature (°C)"
         }
        }
       }
      }
     },
     "metadata": {},
     "output_type": "display_data"
    }
   ],
   "source": [
    "import xarray as xr\n",
    "import plotly.graph_objects as go\n",
    "import os\n",
    "import pandas as pd\n",
    "\n",
    "# Base directory where the NetCDF files are stored\n",
    "data_dir = '/Users/casey/Desktop/blue-dot/data/raw'\n",
    "\n",
    "# Months (1 through 12) and their corresponding names\n",
    "month_names = ['Jan', 'Feb', 'Mar', 'Apr', 'May', 'Jun', 'Jul', 'Aug', 'Sep', 'Oct', 'Nov', 'Dec']\n",
    "months = list(range(1, 13))\n",
    "\n",
    "# Decade ranges, starting from 1981\n",
    "decades = [(1981, 1990), (1991, 2000), (2001, 2010), (2011, 2022)]\n",
    "\n",
    "# Latitude and longitude bounds for Northern Alaska\n",
    "lat_bounds = [64, 71]\n",
    "lon_bounds = [-168, -141]\n",
    "\n",
    "# Initialize DataFrame for water temperature\n",
    "df_water_temp = pd.DataFrame()\n",
    "\n",
    "# Process each file in the directory\n",
    "for file_name in os.listdir(data_dir):\n",
    "    if file_name.endswith('.nc4'):\n",
    "        # Extract year and month from file name\n",
    "        parts = file_name.split('.')\n",
    "        date_part = parts[-2]  # Format 'YYYYMM'\n",
    "        year = int(date_part[:4])\n",
    "        month = int(date_part[4:6])\n",
    "\n",
    "        file_path = os.path.join(data_dir, file_name)\n",
    "        ds = xr.open_dataset(file_path)\n",
    "\n",
    "        # Extract 'Var_TSKINWTR' for Northern Alaska region\n",
    "        water_temp = ds['Var_TSKINWTR'].sel(lat=slice(*lat_bounds), lon=slice(*lon_bounds))\n",
    "\n",
    "        # Store temperature data in DataFrame\n",
    "        df_water_temp.at[pd.to_datetime(f'{year}-{month}-01'), 'Water Temperature'] = water_temp.mean().values\n",
    "        ds.close()\n",
    "\n",
    "# Create a figure for plotting\n",
    "fig = go.Figure()\n",
    "\n",
    "# Custom line and fill colors for each decade\n",
    "decade_colors = {\n",
    "    (1981, 1990): '#ff9dff', #pink\n",
    "    (1991, 2000): '#ffd0b1', #light orange\n",
    "    (2001, 2010): '#ffc4ff', #medium pink\n",
    "    (2011, 2022): '#ffb889' #orange\n",
    "}\n",
    "\n",
    "\n",
    "# Plot for each decade\n",
    "for (start_year, end_year), color in decade_colors.items():\n",
    "    # Select the data for the decade\n",
    "    decade_data = df_water_temp[(df_water_temp.index.year >= start_year) & (df_water_temp.index.year <= end_year)]\n",
    "    \n",
    "    # Calculate the 25th and 75th percentiles for each month\n",
    "    lower_bound = decade_data.groupby(decade_data.index.month).quantile(0.25)\n",
    "    upper_bound = decade_data.groupby(decade_data.index.month).quantile(0.75)\n",
    "\n",
    "    # Plot the percentiles\n",
    "    fig.add_trace(go.Scatter(x=lower_bound.index, y=lower_bound['Water Temperature'], mode='lines', line=dict(color=color, width=1), name=f'{start_year}-{end_year} 25th Percentile', showlegend=True))\n",
    "    fig.add_trace(go.Scatter(x=upper_bound.index, y=upper_bound['Water Temperature'], mode='lines', line=dict(color=color, width=1), name=f'{start_year}-{end_year} 75th Percentile', fill='tonexty', fillcolor=color, showlegend=True))\n",
    "\n",
    "# Plot 2023 separately\n",
    "data_2023_water_temp = df_water_temp[df_water_temp.index.year == 2023].sort_index()\n",
    "if not data_2023_water_temp.empty:\n",
    "    fig.add_trace(go.Scatter(x=data_2023_water_temp.index.month, y=data_2023_water_temp['Water Temperature'], mode='lines', line=dict(color='#ff954e', width=2), name='Year 2023 Water Temp'))\n",
    "\n",
    "# Update layout with legend\n",
    "fig.update_layout(\n",
    "    title='',\n",
    "    xaxis=dict(title='Month', tickmode='array', tickvals=months, showgrid=False, ticktext=month_names, title_font=dict(size=16), tickfont=dict(size=16)),\n",
    "    yaxis=dict(title='Average Water Temperature (°C)', showgrid=False, title_font=dict(size=16), tickfont=dict(size=16)),\n",
    "    plot_bgcolor='rgba(255,255,255,1)',  # White background\n",
    "    paper_bgcolor='rgba(255,255,255,1)', \n",
    "    legend=dict(\n",
    "        title='Legend',\n",
    "        orientation='v',\n",
    "        x=1.05,\n",
    "        y=1,\n",
    "        xanchor='left',\n",
    "        yanchor='top',\n",
    "        title_font=dict(size=16)\n",
    "    )\n",
    ")\n",
    "\n",
    "fig.show()\n",
    "\n",
    "fig.write_image('/Users/casey/Desktop/blue-dot/reports/figures/water_temp_plot.svg', width = 1250, height = 700)"
   ]
  },
  {
   "cell_type": "markdown",
   "metadata": {},
   "source": [
    "## Export just shape of the data for visual"
   ]
  },
  {
   "cell_type": "code",
   "execution_count": 14,
   "metadata": {},
   "outputs": [
    {
     "data": {
      "application/vnd.plotly.v1+json": {
       "config": {
        "plotlyServerURL": "https://plot.ly"
       },
       "data": [
        {
         "line": {
          "color": "#ff9dff",
          "width": 1
         },
         "mode": "lines",
         "name": "1981-1990 25th Percentile",
         "showlegend": true,
         "type": "scatter",
         "x": [
          1,
          2,
          3,
          4,
          5,
          6,
          7,
          8,
          9,
          10,
          11,
          12
         ],
         "y": [
          0.009840271435678005,
          0.006823862669989467,
          0.006227678735740483,
          0.014756579883396626,
          0.14852388203144073,
          0.7981462478637695,
          1.2154761254787445,
          0.9086401164531708,
          0.7856452167034149,
          0.9442847967147827,
          0.07362266536802053,
          0.017756537534296513
         ]
        },
        {
         "fill": "tonexty",
         "fillcolor": "#ff9dff",
         "line": {
          "color": "#ff9dff",
          "width": 1
         },
         "mode": "lines",
         "name": "1981-1990 75th Percentile",
         "showlegend": true,
         "type": "scatter",
         "x": [
          1,
          2,
          3,
          4,
          5,
          6,
          7,
          8,
          9,
          10,
          11,
          12
         ],
         "y": [
          0.014388859737664461,
          0.019156217575073242,
          0.021978437900543213,
          0.06802827306091785,
          0.20816645398736,
          1.2259342670440674,
          2.0265742540359497,
          1.1578383147716522,
          1.6693075001239777,
          1.6133650541305542,
          0.2711103670299053,
          0.027730820700526237
         ]
        },
        {
         "line": {
          "color": "#ffd0b1",
          "width": 1
         },
         "mode": "lines",
         "name": "1991-2000 25th Percentile",
         "showlegend": true,
         "type": "scatter",
         "x": [
          1,
          2,
          3,
          4,
          5,
          6,
          7,
          8,
          9,
          10,
          11,
          12
         ],
         "y": [
          0.014350188197568059,
          0.007205713423900306,
          0.008776488015428185,
          0.03311094734817743,
          0.21336039155721664,
          0.6502945870161057,
          1.2805421650409698,
          0.6001799404621124,
          0.8524713665246964,
          0.8585038632154465,
          0.17675471678376198,
          0.033537354320287704
         ]
        },
        {
         "fill": "tonexty",
         "fillcolor": "#ffd0b1",
         "line": {
          "color": "#ffd0b1",
          "width": 1
         },
         "mode": "lines",
         "name": "1991-2000 75th Percentile",
         "showlegend": true,
         "type": "scatter",
         "x": [
          1,
          2,
          3,
          4,
          5,
          6,
          7,
          8,
          9,
          10,
          11,
          12
         ],
         "y": [
          0.020912677980959415,
          0.013535281643271446,
          0.019917893689125776,
          0.04601801745593548,
          0.4797203317284584,
          1.36539226770401,
          2.5760152339935303,
          0.8519479185342789,
          1.5812636017799377,
          1.8771924376487732,
          0.3540479987859726,
          0.056774577125906944
         ]
        },
        {
         "line": {
          "color": "#ffc4ff",
          "width": 1
         },
         "mode": "lines",
         "name": "2001-2010 25th Percentile",
         "showlegend": true,
         "type": "scatter",
         "x": [
          1,
          2,
          3,
          4,
          5,
          6,
          7,
          8,
          9,
          10,
          11,
          12
         ],
         "y": [
          0.0015778153319843113,
          0.0028140954673290253,
          0.00030887616594554856,
          0.015719704562798142,
          0.22458600252866745,
          0.7111760675907135,
          1.0121718794107437,
          0.7100327163934708,
          0.888044148683548,
          1.3046386539936066,
          0.3070369064807892,
          0.02327051991596818
         ]
        },
        {
         "fill": "tonexty",
         "fillcolor": "#ffc4ff",
         "line": {
          "color": "#ffc4ff",
          "width": 1
         },
         "mode": "lines",
         "name": "2001-2010 75th Percentile",
         "showlegend": true,
         "type": "scatter",
         "x": [
          1,
          2,
          3,
          4,
          5,
          6,
          7,
          8,
          9,
          10,
          11,
          12
         ],
         "y": [
          0.02333797514438629,
          0.01565743051469326,
          0.027142353355884552,
          0.06880111433565617,
          0.3765507787466049,
          1.5421717464923859,
          2.381105065345764,
          0.9895347654819489,
          1.5289421379566193,
          1.8782914280891418,
          0.6258487403392792,
          0.055698152631521225
         ]
        },
        {
         "line": {
          "color": "#ffb889",
          "width": 1
         },
         "mode": "lines",
         "name": "2011-2022 25th Percentile",
         "showlegend": true,
         "type": "scatter",
         "x": [
          1,
          2,
          3,
          4,
          5,
          6,
          7,
          8,
          9,
          10,
          11,
          12
         ],
         "y": [
          0.0013016517768846825,
          0.00029408931914076675,
          0.0008537025132682174,
          0.01873024133965373,
          0.46234260499477386,
          1.8422691822052002,
          1.6750235259532928,
          0.628967210650444,
          1.2621210217475891,
          1.164191722869873,
          0.40346165001392365,
          0.01379872765392065
         ]
        },
        {
         "fill": "tonexty",
         "fillcolor": "#ffb889",
         "line": {
          "color": "#ffb889",
          "width": 1
         },
         "mode": "lines",
         "name": "2011-2022 75th Percentile",
         "showlegend": true,
         "type": "scatter",
         "x": [
          1,
          2,
          3,
          4,
          5,
          6,
          7,
          8,
          9,
          10,
          11,
          12
         ],
         "y": [
          0.009207146940752864,
          0.006510775885544717,
          0.007968045712914318,
          0.0722821056842804,
          0.8055328875780106,
          3.3125771284103394,
          2.3105637431144714,
          1.0500854700803757,
          1.7670228779315948,
          1.986100047826767,
          0.701116219162941,
          0.07212213799357414
         ]
        },
        {
         "line": {
          "color": "#ff954e",
          "width": 2
         },
         "mode": "lines",
         "name": "Year 2023 Water Temp",
         "type": "scatter",
         "x": [
          1,
          2,
          3,
          4,
          5,
          6,
          7,
          8,
          9,
          10,
          11,
          12
         ],
         "y": [
          0.0006476072012446821,
          0.000028720756745315157,
          0.004475337918847799,
          0.014894758351147175,
          0.2796270251274109,
          2.374969482421875,
          4.918767929077148,
          1.5258753299713135,
          0.8641899824142456,
          1.9182215929031372,
          0.5511137247085571,
          0.07085570693016052
         ]
        }
       ],
       "layout": {
        "legend": {
         "orientation": "v",
         "title": {
          "font": {
           "size": 16
          },
          "text": "Legend"
         },
         "x": 1.05,
         "xanchor": "left",
         "y": 1,
         "yanchor": "top"
        },
        "paper_bgcolor": "rgba(0,0,0,0)",
        "plot_bgcolor": "rgba(0,0,0,0)",
        "showlegend": false,
        "template": {
         "data": {
          "bar": [
           {
            "error_x": {
             "color": "#2a3f5f"
            },
            "error_y": {
             "color": "#2a3f5f"
            },
            "marker": {
             "line": {
              "color": "#E5ECF6",
              "width": 0.5
             },
             "pattern": {
              "fillmode": "overlay",
              "size": 10,
              "solidity": 0.2
             }
            },
            "type": "bar"
           }
          ],
          "barpolar": [
           {
            "marker": {
             "line": {
              "color": "#E5ECF6",
              "width": 0.5
             },
             "pattern": {
              "fillmode": "overlay",
              "size": 10,
              "solidity": 0.2
             }
            },
            "type": "barpolar"
           }
          ],
          "carpet": [
           {
            "aaxis": {
             "endlinecolor": "#2a3f5f",
             "gridcolor": "white",
             "linecolor": "white",
             "minorgridcolor": "white",
             "startlinecolor": "#2a3f5f"
            },
            "baxis": {
             "endlinecolor": "#2a3f5f",
             "gridcolor": "white",
             "linecolor": "white",
             "minorgridcolor": "white",
             "startlinecolor": "#2a3f5f"
            },
            "type": "carpet"
           }
          ],
          "choropleth": [
           {
            "colorbar": {
             "outlinewidth": 0,
             "ticks": ""
            },
            "type": "choropleth"
           }
          ],
          "contour": [
           {
            "colorbar": {
             "outlinewidth": 0,
             "ticks": ""
            },
            "colorscale": [
             [
              0,
              "#0d0887"
             ],
             [
              0.1111111111111111,
              "#46039f"
             ],
             [
              0.2222222222222222,
              "#7201a8"
             ],
             [
              0.3333333333333333,
              "#9c179e"
             ],
             [
              0.4444444444444444,
              "#bd3786"
             ],
             [
              0.5555555555555556,
              "#d8576b"
             ],
             [
              0.6666666666666666,
              "#ed7953"
             ],
             [
              0.7777777777777778,
              "#fb9f3a"
             ],
             [
              0.8888888888888888,
              "#fdca26"
             ],
             [
              1,
              "#f0f921"
             ]
            ],
            "type": "contour"
           }
          ],
          "contourcarpet": [
           {
            "colorbar": {
             "outlinewidth": 0,
             "ticks": ""
            },
            "type": "contourcarpet"
           }
          ],
          "heatmap": [
           {
            "colorbar": {
             "outlinewidth": 0,
             "ticks": ""
            },
            "colorscale": [
             [
              0,
              "#0d0887"
             ],
             [
              0.1111111111111111,
              "#46039f"
             ],
             [
              0.2222222222222222,
              "#7201a8"
             ],
             [
              0.3333333333333333,
              "#9c179e"
             ],
             [
              0.4444444444444444,
              "#bd3786"
             ],
             [
              0.5555555555555556,
              "#d8576b"
             ],
             [
              0.6666666666666666,
              "#ed7953"
             ],
             [
              0.7777777777777778,
              "#fb9f3a"
             ],
             [
              0.8888888888888888,
              "#fdca26"
             ],
             [
              1,
              "#f0f921"
             ]
            ],
            "type": "heatmap"
           }
          ],
          "heatmapgl": [
           {
            "colorbar": {
             "outlinewidth": 0,
             "ticks": ""
            },
            "colorscale": [
             [
              0,
              "#0d0887"
             ],
             [
              0.1111111111111111,
              "#46039f"
             ],
             [
              0.2222222222222222,
              "#7201a8"
             ],
             [
              0.3333333333333333,
              "#9c179e"
             ],
             [
              0.4444444444444444,
              "#bd3786"
             ],
             [
              0.5555555555555556,
              "#d8576b"
             ],
             [
              0.6666666666666666,
              "#ed7953"
             ],
             [
              0.7777777777777778,
              "#fb9f3a"
             ],
             [
              0.8888888888888888,
              "#fdca26"
             ],
             [
              1,
              "#f0f921"
             ]
            ],
            "type": "heatmapgl"
           }
          ],
          "histogram": [
           {
            "marker": {
             "pattern": {
              "fillmode": "overlay",
              "size": 10,
              "solidity": 0.2
             }
            },
            "type": "histogram"
           }
          ],
          "histogram2d": [
           {
            "colorbar": {
             "outlinewidth": 0,
             "ticks": ""
            },
            "colorscale": [
             [
              0,
              "#0d0887"
             ],
             [
              0.1111111111111111,
              "#46039f"
             ],
             [
              0.2222222222222222,
              "#7201a8"
             ],
             [
              0.3333333333333333,
              "#9c179e"
             ],
             [
              0.4444444444444444,
              "#bd3786"
             ],
             [
              0.5555555555555556,
              "#d8576b"
             ],
             [
              0.6666666666666666,
              "#ed7953"
             ],
             [
              0.7777777777777778,
              "#fb9f3a"
             ],
             [
              0.8888888888888888,
              "#fdca26"
             ],
             [
              1,
              "#f0f921"
             ]
            ],
            "type": "histogram2d"
           }
          ],
          "histogram2dcontour": [
           {
            "colorbar": {
             "outlinewidth": 0,
             "ticks": ""
            },
            "colorscale": [
             [
              0,
              "#0d0887"
             ],
             [
              0.1111111111111111,
              "#46039f"
             ],
             [
              0.2222222222222222,
              "#7201a8"
             ],
             [
              0.3333333333333333,
              "#9c179e"
             ],
             [
              0.4444444444444444,
              "#bd3786"
             ],
             [
              0.5555555555555556,
              "#d8576b"
             ],
             [
              0.6666666666666666,
              "#ed7953"
             ],
             [
              0.7777777777777778,
              "#fb9f3a"
             ],
             [
              0.8888888888888888,
              "#fdca26"
             ],
             [
              1,
              "#f0f921"
             ]
            ],
            "type": "histogram2dcontour"
           }
          ],
          "mesh3d": [
           {
            "colorbar": {
             "outlinewidth": 0,
             "ticks": ""
            },
            "type": "mesh3d"
           }
          ],
          "parcoords": [
           {
            "line": {
             "colorbar": {
              "outlinewidth": 0,
              "ticks": ""
             }
            },
            "type": "parcoords"
           }
          ],
          "pie": [
           {
            "automargin": true,
            "type": "pie"
           }
          ],
          "scatter": [
           {
            "fillpattern": {
             "fillmode": "overlay",
             "size": 10,
             "solidity": 0.2
            },
            "type": "scatter"
           }
          ],
          "scatter3d": [
           {
            "line": {
             "colorbar": {
              "outlinewidth": 0,
              "ticks": ""
             }
            },
            "marker": {
             "colorbar": {
              "outlinewidth": 0,
              "ticks": ""
             }
            },
            "type": "scatter3d"
           }
          ],
          "scattercarpet": [
           {
            "marker": {
             "colorbar": {
              "outlinewidth": 0,
              "ticks": ""
             }
            },
            "type": "scattercarpet"
           }
          ],
          "scattergeo": [
           {
            "marker": {
             "colorbar": {
              "outlinewidth": 0,
              "ticks": ""
             }
            },
            "type": "scattergeo"
           }
          ],
          "scattergl": [
           {
            "marker": {
             "colorbar": {
              "outlinewidth": 0,
              "ticks": ""
             }
            },
            "type": "scattergl"
           }
          ],
          "scattermapbox": [
           {
            "marker": {
             "colorbar": {
              "outlinewidth": 0,
              "ticks": ""
             }
            },
            "type": "scattermapbox"
           }
          ],
          "scatterpolar": [
           {
            "marker": {
             "colorbar": {
              "outlinewidth": 0,
              "ticks": ""
             }
            },
            "type": "scatterpolar"
           }
          ],
          "scatterpolargl": [
           {
            "marker": {
             "colorbar": {
              "outlinewidth": 0,
              "ticks": ""
             }
            },
            "type": "scatterpolargl"
           }
          ],
          "scatterternary": [
           {
            "marker": {
             "colorbar": {
              "outlinewidth": 0,
              "ticks": ""
             }
            },
            "type": "scatterternary"
           }
          ],
          "surface": [
           {
            "colorbar": {
             "outlinewidth": 0,
             "ticks": ""
            },
            "colorscale": [
             [
              0,
              "#0d0887"
             ],
             [
              0.1111111111111111,
              "#46039f"
             ],
             [
              0.2222222222222222,
              "#7201a8"
             ],
             [
              0.3333333333333333,
              "#9c179e"
             ],
             [
              0.4444444444444444,
              "#bd3786"
             ],
             [
              0.5555555555555556,
              "#d8576b"
             ],
             [
              0.6666666666666666,
              "#ed7953"
             ],
             [
              0.7777777777777778,
              "#fb9f3a"
             ],
             [
              0.8888888888888888,
              "#fdca26"
             ],
             [
              1,
              "#f0f921"
             ]
            ],
            "type": "surface"
           }
          ],
          "table": [
           {
            "cells": {
             "fill": {
              "color": "#EBF0F8"
             },
             "line": {
              "color": "white"
             }
            },
            "header": {
             "fill": {
              "color": "#C8D4E3"
             },
             "line": {
              "color": "white"
             }
            },
            "type": "table"
           }
          ]
         },
         "layout": {
          "annotationdefaults": {
           "arrowcolor": "#2a3f5f",
           "arrowhead": 0,
           "arrowwidth": 1
          },
          "autotypenumbers": "strict",
          "coloraxis": {
           "colorbar": {
            "outlinewidth": 0,
            "ticks": ""
           }
          },
          "colorscale": {
           "diverging": [
            [
             0,
             "#8e0152"
            ],
            [
             0.1,
             "#c51b7d"
            ],
            [
             0.2,
             "#de77ae"
            ],
            [
             0.3,
             "#f1b6da"
            ],
            [
             0.4,
             "#fde0ef"
            ],
            [
             0.5,
             "#f7f7f7"
            ],
            [
             0.6,
             "#e6f5d0"
            ],
            [
             0.7,
             "#b8e186"
            ],
            [
             0.8,
             "#7fbc41"
            ],
            [
             0.9,
             "#4d9221"
            ],
            [
             1,
             "#276419"
            ]
           ],
           "sequential": [
            [
             0,
             "#0d0887"
            ],
            [
             0.1111111111111111,
             "#46039f"
            ],
            [
             0.2222222222222222,
             "#7201a8"
            ],
            [
             0.3333333333333333,
             "#9c179e"
            ],
            [
             0.4444444444444444,
             "#bd3786"
            ],
            [
             0.5555555555555556,
             "#d8576b"
            ],
            [
             0.6666666666666666,
             "#ed7953"
            ],
            [
             0.7777777777777778,
             "#fb9f3a"
            ],
            [
             0.8888888888888888,
             "#fdca26"
            ],
            [
             1,
             "#f0f921"
            ]
           ],
           "sequentialminus": [
            [
             0,
             "#0d0887"
            ],
            [
             0.1111111111111111,
             "#46039f"
            ],
            [
             0.2222222222222222,
             "#7201a8"
            ],
            [
             0.3333333333333333,
             "#9c179e"
            ],
            [
             0.4444444444444444,
             "#bd3786"
            ],
            [
             0.5555555555555556,
             "#d8576b"
            ],
            [
             0.6666666666666666,
             "#ed7953"
            ],
            [
             0.7777777777777778,
             "#fb9f3a"
            ],
            [
             0.8888888888888888,
             "#fdca26"
            ],
            [
             1,
             "#f0f921"
            ]
           ]
          },
          "colorway": [
           "#636efa",
           "#EF553B",
           "#00cc96",
           "#ab63fa",
           "#FFA15A",
           "#19d3f3",
           "#FF6692",
           "#B6E880",
           "#FF97FF",
           "#FECB52"
          ],
          "font": {
           "color": "#2a3f5f"
          },
          "geo": {
           "bgcolor": "white",
           "lakecolor": "white",
           "landcolor": "#E5ECF6",
           "showlakes": true,
           "showland": true,
           "subunitcolor": "white"
          },
          "hoverlabel": {
           "align": "left"
          },
          "hovermode": "closest",
          "mapbox": {
           "style": "light"
          },
          "paper_bgcolor": "white",
          "plot_bgcolor": "#E5ECF6",
          "polar": {
           "angularaxis": {
            "gridcolor": "white",
            "linecolor": "white",
            "ticks": ""
           },
           "bgcolor": "#E5ECF6",
           "radialaxis": {
            "gridcolor": "white",
            "linecolor": "white",
            "ticks": ""
           }
          },
          "scene": {
           "xaxis": {
            "backgroundcolor": "#E5ECF6",
            "gridcolor": "white",
            "gridwidth": 2,
            "linecolor": "white",
            "showbackground": true,
            "ticks": "",
            "zerolinecolor": "white"
           },
           "yaxis": {
            "backgroundcolor": "#E5ECF6",
            "gridcolor": "white",
            "gridwidth": 2,
            "linecolor": "white",
            "showbackground": true,
            "ticks": "",
            "zerolinecolor": "white"
           },
           "zaxis": {
            "backgroundcolor": "#E5ECF6",
            "gridcolor": "white",
            "gridwidth": 2,
            "linecolor": "white",
            "showbackground": true,
            "ticks": "",
            "zerolinecolor": "white"
           }
          },
          "shapedefaults": {
           "line": {
            "color": "#2a3f5f"
           }
          },
          "ternary": {
           "aaxis": {
            "gridcolor": "white",
            "linecolor": "white",
            "ticks": ""
           },
           "baxis": {
            "gridcolor": "white",
            "linecolor": "white",
            "ticks": ""
           },
           "bgcolor": "#E5ECF6",
           "caxis": {
            "gridcolor": "white",
            "linecolor": "white",
            "ticks": ""
           }
          },
          "title": {
           "x": 0.05
          },
          "xaxis": {
           "automargin": true,
           "gridcolor": "white",
           "linecolor": "white",
           "ticks": "",
           "title": {
            "standoff": 15
           },
           "zerolinecolor": "white",
           "zerolinewidth": 2
          },
          "yaxis": {
           "automargin": true,
           "gridcolor": "white",
           "linecolor": "white",
           "ticks": "",
           "title": {
            "standoff": 15
           },
           "zerolinecolor": "white",
           "zerolinewidth": 2
          }
         }
        },
        "title": {
         "text": ""
        },
        "xaxis": {
         "showgrid": false,
         "tickfont": {
          "size": 16
         },
         "tickmode": "array",
         "ticktext": [
          "Jan",
          "Feb",
          "Mar",
          "Apr",
          "May",
          "Jun",
          "Jul",
          "Aug",
          "Sep",
          "Oct",
          "Nov",
          "Dec"
         ],
         "tickvals": [
          1,
          2,
          3,
          4,
          5,
          6,
          7,
          8,
          9,
          10,
          11,
          12
         ],
         "title": {
          "font": {
           "size": 16
          },
          "text": "Month"
         },
         "visible": false
        },
        "yaxis": {
         "showgrid": false,
         "tickfont": {
          "size": 16
         },
         "title": {
          "font": {
           "size": 16
          },
          "text": "Average Water Temperature (°C)"
         },
         "visible": false
        }
       }
      }
     },
     "metadata": {},
     "output_type": "display_data"
    }
   ],
   "source": [
    "fig.update_layout(showlegend=False, xaxis_visible=False, yaxis_visible=False, plot_bgcolor='rgba(0,0,0,0)', paper_bgcolor='rgba(0,0,0,0)', title='')\n",
    "fig.show()\n",
    "fig.write_image('/Users/casey/Desktop/blue-dot/reports/figures/water_temp_shape.svg', width = 1250, height = 700)"
   ]
  },
  {
   "cell_type": "markdown",
   "metadata": {},
   "source": [
    "## Final overlayed plot with both parameters"
   ]
  },
  {
   "cell_type": "code",
   "execution_count": 17,
   "metadata": {},
   "outputs": [
    {
     "data": {
      "application/vnd.plotly.v1+json": {
       "config": {
        "plotlyServerURL": "https://plot.ly"
       },
       "data": [
        {
         "line": {
          "color": "#b1ffff",
          "width": 1
         },
         "mode": "lines",
         "name": "1981-1990 25th Percentile Sea Ice",
         "showlegend": false,
         "type": "scatter",
         "x": [
          1,
          2,
          3,
          4,
          5,
          6,
          7,
          8,
          9,
          10,
          11,
          12
         ],
         "y": [
          0.1822800599038601,
          0.18391869217157364,
          0.18541322275996208,
          0.1839982196688652,
          0.15365808829665184,
          0.09222518280148506,
          0.040344431065022945,
          0.008290012134239078,
          0.004449499654583633,
          0.026802307926118374,
          0.11628792993724346,
          0.16880463063716888
         ]
        },
        {
         "fill": "tonexty",
         "fillcolor": "#b1ffff",
         "line": {
          "color": "#b1ffff",
          "width": 1
         },
         "mode": "lines",
         "name": "1981-1990 75th Percentile Sea Ice",
         "showlegend": false,
         "type": "scatter",
         "x": [
          1,
          2,
          3,
          4,
          5,
          6,
          7,
          8,
          9,
          10,
          11,
          12
         ],
         "y": [
          0.1904035396873951,
          0.191507488489151,
          0.19421666488051414,
          0.1921771727502346,
          0.1722470000386238,
          0.1382976733148098,
          0.06678935699164867,
          0.03626842750236392,
          0.021608272567391396,
          0.07253994047641754,
          0.1410103365778923,
          0.18048839643597603
         ]
        },
        {
         "line": {
          "color": "#00ebeb",
          "width": 1
         },
         "mode": "lines",
         "name": "1991-2000 25th Percentile Sea Ice",
         "showlegend": false,
         "type": "scatter",
         "x": [
          1,
          2,
          3,
          4,
          5,
          6,
          7,
          8,
          9,
          10,
          11,
          12
         ],
         "y": [
          0.18693799525499344,
          0.18843773007392883,
          0.18629247695207596,
          0.18434428796172142,
          0.15007056668400764,
          0.09434756636619568,
          0.02788578998297453,
          0.0028541554347611964,
          0.0036591955577023327,
          0.024001408834010363,
          0.0748366191983223,
          0.17086010798811913
         ]
        },
        {
         "fill": "tonexty",
         "fillcolor": "#00ebeb",
         "line": {
          "color": "#00ebeb",
          "width": 1
         },
         "mode": "lines",
         "name": "1991-2000 75th Percentile Sea Ice",
         "showlegend": false,
         "type": "scatter",
         "x": [
          1,
          2,
          3,
          4,
          5,
          6,
          7,
          8,
          9,
          10,
          11,
          12
         ],
         "y": [
          0.19018777459859848,
          0.19327179342508316,
          0.19200440868735313,
          0.19053137302398682,
          0.17087406292557716,
          0.1293634343892336,
          0.055369678884744644,
          0.015134575311094522,
          0.018307987367734313,
          0.052162240259349346,
          0.11729537509381771,
          0.18426130712032318
         ]
        },
        {
         "line": {
          "color": "#00c4c4",
          "width": 1
         },
         "mode": "lines",
         "name": "2001-2010 25th Percentile Sea Ice",
         "showlegend": false,
         "type": "scatter",
         "x": [
          1,
          2,
          3,
          4,
          5,
          6,
          7,
          8,
          9,
          10,
          11,
          12
         ],
         "y": [
          0.18106825277209282,
          0.18436672911047935,
          0.1884574070572853,
          0.18135935440659523,
          0.14857353642582893,
          0.07514273934066296,
          0.012922507477924228,
          0.0009088442020583898,
          0.00031713971111457795,
          0.009886630810797215,
          0.07575192488729954,
          0.16678451746702194
         ]
        },
        {
         "fill": "tonexty",
         "fillcolor": "#00c4c4",
         "line": {
          "color": "#00c4c4",
          "width": 1
         },
         "mode": "lines",
         "name": "2001-2010 75th Percentile Sea Ice",
         "showlegend": false,
         "type": "scatter",
         "x": [
          1,
          2,
          3,
          4,
          5,
          6,
          7,
          8,
          9,
          10,
          11,
          12
         ],
         "y": [
          0.20307613909244537,
          0.2064211741089821,
          0.2025994062423706,
          0.20922719687223434,
          0.16788288950920105,
          0.08739073015749454,
          0.047318282537162304,
          0.012624028837308288,
          0.0038513168692588806,
          0.02285748766735196,
          0.11330620758235455,
          0.18703193590044975
         ]
        },
        {
         "line": {
          "color": "#009d9d",
          "width": 1
         },
         "mode": "lines",
         "name": "2011-2022 25th Percentile Sea Ice",
         "showlegend": false,
         "type": "scatter",
         "x": [
          1,
          2,
          3,
          4,
          5,
          6,
          7,
          8,
          9,
          10,
          11,
          12
         ],
         "y": [
          0.1970141865313053,
          0.20189980417490005,
          0.20331192389130592,
          0.18876279890537262,
          0.11253340914845467,
          0.053620762191712856,
          0.011132407234981656,
          0.00018821155754267238,
          0.0007995454361662269,
          0.0058673652820289135,
          0.0651714988052845,
          0.15772471576929092
         ]
        },
        {
         "fill": "tonexty",
         "fillcolor": "#009d9d",
         "line": {
          "color": "#009d9d",
          "width": 1
         },
         "mode": "lines",
         "name": "2011-2022 75th Percentile Sea Ice",
         "showlegend": false,
         "type": "scatter",
         "x": [
          1,
          2,
          3,
          4,
          5,
          6,
          7,
          8,
          9,
          10,
          11,
          12
         ],
         "y": [
          0.20757214725017548,
          0.21035847812891006,
          0.21308286488056183,
          0.2074100226163864,
          0.1646217592060566,
          0.08240364491939545,
          0.020227645989507437,
          0.001028912010951899,
          0.001408028940204531,
          0.013182905036956072,
          0.0831838920712471,
          0.18478607758879662
         ]
        },
        {
         "line": {
          "color": "#ff9dff",
          "width": 1
         },
         "mode": "lines",
         "name": "1981-1990 25th Percentile Water Temp",
         "showlegend": false,
         "type": "scatter",
         "x": [
          1,
          2,
          3,
          4,
          5,
          6,
          7,
          8,
          9,
          10,
          11,
          12
         ],
         "y": [
          0.009840271435678005,
          0.006823862669989467,
          0.006227678735740483,
          0.014756579883396626,
          0.14852388203144073,
          0.7981462478637695,
          1.2154761254787445,
          0.9086401164531708,
          0.7856452167034149,
          0.9442847967147827,
          0.07362266536802053,
          0.017756537534296513
         ],
         "yaxis": "y2"
        },
        {
         "fill": "tonexty",
         "fillcolor": "#ff9dff",
         "line": {
          "color": "#ff9dff",
          "width": 1
         },
         "mode": "lines",
         "name": "1981-1990 75th Percentile Water Temp",
         "showlegend": false,
         "type": "scatter",
         "x": [
          1,
          2,
          3,
          4,
          5,
          6,
          7,
          8,
          9,
          10,
          11,
          12
         ],
         "y": [
          0.014388859737664461,
          0.019156217575073242,
          0.021978437900543213,
          0.06802827306091785,
          0.20816645398736,
          1.2259342670440674,
          2.0265742540359497,
          1.1578383147716522,
          1.6693075001239777,
          1.6133650541305542,
          0.2711103670299053,
          0.027730820700526237
         ],
         "yaxis": "y2"
        },
        {
         "line": {
          "color": "#ffd0b1",
          "width": 1
         },
         "mode": "lines",
         "name": "1991-2000 25th Percentile Water Temp",
         "showlegend": false,
         "type": "scatter",
         "x": [
          1,
          2,
          3,
          4,
          5,
          6,
          7,
          8,
          9,
          10,
          11,
          12
         ],
         "y": [
          0.014350188197568059,
          0.007205713423900306,
          0.008776488015428185,
          0.03311094734817743,
          0.21336039155721664,
          0.6502945870161057,
          1.2805421650409698,
          0.6001799404621124,
          0.8524713665246964,
          0.8585038632154465,
          0.17675471678376198,
          0.033537354320287704
         ],
         "yaxis": "y2"
        },
        {
         "fill": "tonexty",
         "fillcolor": "#ffd0b1",
         "line": {
          "color": "#ffd0b1",
          "width": 1
         },
         "mode": "lines",
         "name": "1991-2000 75th Percentile Water Temp",
         "showlegend": false,
         "type": "scatter",
         "x": [
          1,
          2,
          3,
          4,
          5,
          6,
          7,
          8,
          9,
          10,
          11,
          12
         ],
         "y": [
          0.020912677980959415,
          0.013535281643271446,
          0.019917893689125776,
          0.04601801745593548,
          0.4797203317284584,
          1.36539226770401,
          2.5760152339935303,
          0.8519479185342789,
          1.5812636017799377,
          1.8771924376487732,
          0.3540479987859726,
          0.056774577125906944
         ],
         "yaxis": "y2"
        },
        {
         "line": {
          "color": "#ffc4ff",
          "width": 1
         },
         "mode": "lines",
         "name": "2001-2010 25th Percentile Water Temp",
         "showlegend": false,
         "type": "scatter",
         "x": [
          1,
          2,
          3,
          4,
          5,
          6,
          7,
          8,
          9,
          10,
          11,
          12
         ],
         "y": [
          0.0015778153319843113,
          0.0028140954673290253,
          0.00030887616594554856,
          0.015719704562798142,
          0.22458600252866745,
          0.7111760675907135,
          1.0121718794107437,
          0.7100327163934708,
          0.888044148683548,
          1.3046386539936066,
          0.3070369064807892,
          0.02327051991596818
         ],
         "yaxis": "y2"
        },
        {
         "fill": "tonexty",
         "fillcolor": "#ffc4ff",
         "line": {
          "color": "#ffc4ff",
          "width": 1
         },
         "mode": "lines",
         "name": "2001-2010 75th Percentile Water Temp",
         "showlegend": false,
         "type": "scatter",
         "x": [
          1,
          2,
          3,
          4,
          5,
          6,
          7,
          8,
          9,
          10,
          11,
          12
         ],
         "y": [
          0.02333797514438629,
          0.01565743051469326,
          0.027142353355884552,
          0.06880111433565617,
          0.3765507787466049,
          1.5421717464923859,
          2.381105065345764,
          0.9895347654819489,
          1.5289421379566193,
          1.8782914280891418,
          0.6258487403392792,
          0.055698152631521225
         ],
         "yaxis": "y2"
        },
        {
         "line": {
          "color": "#ffb889",
          "width": 1
         },
         "mode": "lines",
         "name": "2011-2022 25th Percentile Water Temp",
         "showlegend": false,
         "type": "scatter",
         "x": [
          1,
          2,
          3,
          4,
          5,
          6,
          7,
          8,
          9,
          10,
          11,
          12
         ],
         "y": [
          0.0013016517768846825,
          0.00029408931914076675,
          0.0008537025132682174,
          0.01873024133965373,
          0.46234260499477386,
          1.8422691822052002,
          1.6750235259532928,
          0.628967210650444,
          1.2621210217475891,
          1.164191722869873,
          0.40346165001392365,
          0.01379872765392065
         ],
         "yaxis": "y2"
        },
        {
         "fill": "tonexty",
         "fillcolor": "#ffb889",
         "line": {
          "color": "#ffb889",
          "width": 1
         },
         "mode": "lines",
         "name": "2011-2022 75th Percentile Water Temp",
         "showlegend": false,
         "type": "scatter",
         "x": [
          1,
          2,
          3,
          4,
          5,
          6,
          7,
          8,
          9,
          10,
          11,
          12
         ],
         "y": [
          0.009207146940752864,
          0.006510775885544717,
          0.007968045712914318,
          0.0722821056842804,
          0.8055328875780106,
          3.3125771284103394,
          2.3105637431144714,
          1.0500854700803757,
          1.7670228779315948,
          1.986100047826767,
          0.701116219162941,
          0.07212213799357414
         ],
         "yaxis": "y2"
        },
        {
         "line": {
          "color": "#007676",
          "width": 2
         },
         "mode": "lines",
         "showlegend": false,
         "type": "scatter",
         "x": [
          1,
          2,
          3,
          4,
          5,
          6,
          7,
          8,
          9,
          10,
          11,
          12
         ],
         "y": [
          0.20088353753089905,
          0.20808571577072144,
          0.20793235301971436,
          0.21016432344913483,
          0.17902381718158722,
          0.0983843207359314,
          0.016506895422935486,
          0.00003418261621845886,
          0,
          0.00043609418207779527,
          0.05319080874323845,
          0.17476655542850494
         ]
        },
        {
         "line": {
          "color": "#ff954e",
          "width": 2
         },
         "mode": "lines",
         "showlegend": false,
         "type": "scatter",
         "x": [
          1,
          2,
          3,
          4,
          5,
          6,
          7,
          8,
          9,
          10,
          11,
          12
         ],
         "y": [
          0.0006476072012446821,
          0.000028720756745315157,
          0.004475337918847799,
          0.014894758351147175,
          0.2796270251274109,
          2.374969482421875,
          4.918767929077148,
          1.5258753299713135,
          0.8641899824142456,
          1.9182215929031372,
          0.5511137247085571,
          0.07085570693016052
         ],
         "yaxis": "y2"
        }
       ],
       "layout": {
        "paper_bgcolor": "rgba(255,255,255,1)",
        "plot_bgcolor": "rgba(255,255,255,1)",
        "template": {
         "data": {
          "bar": [
           {
            "error_x": {
             "color": "#2a3f5f"
            },
            "error_y": {
             "color": "#2a3f5f"
            },
            "marker": {
             "line": {
              "color": "#E5ECF6",
              "width": 0.5
             },
             "pattern": {
              "fillmode": "overlay",
              "size": 10,
              "solidity": 0.2
             }
            },
            "type": "bar"
           }
          ],
          "barpolar": [
           {
            "marker": {
             "line": {
              "color": "#E5ECF6",
              "width": 0.5
             },
             "pattern": {
              "fillmode": "overlay",
              "size": 10,
              "solidity": 0.2
             }
            },
            "type": "barpolar"
           }
          ],
          "carpet": [
           {
            "aaxis": {
             "endlinecolor": "#2a3f5f",
             "gridcolor": "white",
             "linecolor": "white",
             "minorgridcolor": "white",
             "startlinecolor": "#2a3f5f"
            },
            "baxis": {
             "endlinecolor": "#2a3f5f",
             "gridcolor": "white",
             "linecolor": "white",
             "minorgridcolor": "white",
             "startlinecolor": "#2a3f5f"
            },
            "type": "carpet"
           }
          ],
          "choropleth": [
           {
            "colorbar": {
             "outlinewidth": 0,
             "ticks": ""
            },
            "type": "choropleth"
           }
          ],
          "contour": [
           {
            "colorbar": {
             "outlinewidth": 0,
             "ticks": ""
            },
            "colorscale": [
             [
              0,
              "#0d0887"
             ],
             [
              0.1111111111111111,
              "#46039f"
             ],
             [
              0.2222222222222222,
              "#7201a8"
             ],
             [
              0.3333333333333333,
              "#9c179e"
             ],
             [
              0.4444444444444444,
              "#bd3786"
             ],
             [
              0.5555555555555556,
              "#d8576b"
             ],
             [
              0.6666666666666666,
              "#ed7953"
             ],
             [
              0.7777777777777778,
              "#fb9f3a"
             ],
             [
              0.8888888888888888,
              "#fdca26"
             ],
             [
              1,
              "#f0f921"
             ]
            ],
            "type": "contour"
           }
          ],
          "contourcarpet": [
           {
            "colorbar": {
             "outlinewidth": 0,
             "ticks": ""
            },
            "type": "contourcarpet"
           }
          ],
          "heatmap": [
           {
            "colorbar": {
             "outlinewidth": 0,
             "ticks": ""
            },
            "colorscale": [
             [
              0,
              "#0d0887"
             ],
             [
              0.1111111111111111,
              "#46039f"
             ],
             [
              0.2222222222222222,
              "#7201a8"
             ],
             [
              0.3333333333333333,
              "#9c179e"
             ],
             [
              0.4444444444444444,
              "#bd3786"
             ],
             [
              0.5555555555555556,
              "#d8576b"
             ],
             [
              0.6666666666666666,
              "#ed7953"
             ],
             [
              0.7777777777777778,
              "#fb9f3a"
             ],
             [
              0.8888888888888888,
              "#fdca26"
             ],
             [
              1,
              "#f0f921"
             ]
            ],
            "type": "heatmap"
           }
          ],
          "heatmapgl": [
           {
            "colorbar": {
             "outlinewidth": 0,
             "ticks": ""
            },
            "colorscale": [
             [
              0,
              "#0d0887"
             ],
             [
              0.1111111111111111,
              "#46039f"
             ],
             [
              0.2222222222222222,
              "#7201a8"
             ],
             [
              0.3333333333333333,
              "#9c179e"
             ],
             [
              0.4444444444444444,
              "#bd3786"
             ],
             [
              0.5555555555555556,
              "#d8576b"
             ],
             [
              0.6666666666666666,
              "#ed7953"
             ],
             [
              0.7777777777777778,
              "#fb9f3a"
             ],
             [
              0.8888888888888888,
              "#fdca26"
             ],
             [
              1,
              "#f0f921"
             ]
            ],
            "type": "heatmapgl"
           }
          ],
          "histogram": [
           {
            "marker": {
             "pattern": {
              "fillmode": "overlay",
              "size": 10,
              "solidity": 0.2
             }
            },
            "type": "histogram"
           }
          ],
          "histogram2d": [
           {
            "colorbar": {
             "outlinewidth": 0,
             "ticks": ""
            },
            "colorscale": [
             [
              0,
              "#0d0887"
             ],
             [
              0.1111111111111111,
              "#46039f"
             ],
             [
              0.2222222222222222,
              "#7201a8"
             ],
             [
              0.3333333333333333,
              "#9c179e"
             ],
             [
              0.4444444444444444,
              "#bd3786"
             ],
             [
              0.5555555555555556,
              "#d8576b"
             ],
             [
              0.6666666666666666,
              "#ed7953"
             ],
             [
              0.7777777777777778,
              "#fb9f3a"
             ],
             [
              0.8888888888888888,
              "#fdca26"
             ],
             [
              1,
              "#f0f921"
             ]
            ],
            "type": "histogram2d"
           }
          ],
          "histogram2dcontour": [
           {
            "colorbar": {
             "outlinewidth": 0,
             "ticks": ""
            },
            "colorscale": [
             [
              0,
              "#0d0887"
             ],
             [
              0.1111111111111111,
              "#46039f"
             ],
             [
              0.2222222222222222,
              "#7201a8"
             ],
             [
              0.3333333333333333,
              "#9c179e"
             ],
             [
              0.4444444444444444,
              "#bd3786"
             ],
             [
              0.5555555555555556,
              "#d8576b"
             ],
             [
              0.6666666666666666,
              "#ed7953"
             ],
             [
              0.7777777777777778,
              "#fb9f3a"
             ],
             [
              0.8888888888888888,
              "#fdca26"
             ],
             [
              1,
              "#f0f921"
             ]
            ],
            "type": "histogram2dcontour"
           }
          ],
          "mesh3d": [
           {
            "colorbar": {
             "outlinewidth": 0,
             "ticks": ""
            },
            "type": "mesh3d"
           }
          ],
          "parcoords": [
           {
            "line": {
             "colorbar": {
              "outlinewidth": 0,
              "ticks": ""
             }
            },
            "type": "parcoords"
           }
          ],
          "pie": [
           {
            "automargin": true,
            "type": "pie"
           }
          ],
          "scatter": [
           {
            "fillpattern": {
             "fillmode": "overlay",
             "size": 10,
             "solidity": 0.2
            },
            "type": "scatter"
           }
          ],
          "scatter3d": [
           {
            "line": {
             "colorbar": {
              "outlinewidth": 0,
              "ticks": ""
             }
            },
            "marker": {
             "colorbar": {
              "outlinewidth": 0,
              "ticks": ""
             }
            },
            "type": "scatter3d"
           }
          ],
          "scattercarpet": [
           {
            "marker": {
             "colorbar": {
              "outlinewidth": 0,
              "ticks": ""
             }
            },
            "type": "scattercarpet"
           }
          ],
          "scattergeo": [
           {
            "marker": {
             "colorbar": {
              "outlinewidth": 0,
              "ticks": ""
             }
            },
            "type": "scattergeo"
           }
          ],
          "scattergl": [
           {
            "marker": {
             "colorbar": {
              "outlinewidth": 0,
              "ticks": ""
             }
            },
            "type": "scattergl"
           }
          ],
          "scattermapbox": [
           {
            "marker": {
             "colorbar": {
              "outlinewidth": 0,
              "ticks": ""
             }
            },
            "type": "scattermapbox"
           }
          ],
          "scatterpolar": [
           {
            "marker": {
             "colorbar": {
              "outlinewidth": 0,
              "ticks": ""
             }
            },
            "type": "scatterpolar"
           }
          ],
          "scatterpolargl": [
           {
            "marker": {
             "colorbar": {
              "outlinewidth": 0,
              "ticks": ""
             }
            },
            "type": "scatterpolargl"
           }
          ],
          "scatterternary": [
           {
            "marker": {
             "colorbar": {
              "outlinewidth": 0,
              "ticks": ""
             }
            },
            "type": "scatterternary"
           }
          ],
          "surface": [
           {
            "colorbar": {
             "outlinewidth": 0,
             "ticks": ""
            },
            "colorscale": [
             [
              0,
              "#0d0887"
             ],
             [
              0.1111111111111111,
              "#46039f"
             ],
             [
              0.2222222222222222,
              "#7201a8"
             ],
             [
              0.3333333333333333,
              "#9c179e"
             ],
             [
              0.4444444444444444,
              "#bd3786"
             ],
             [
              0.5555555555555556,
              "#d8576b"
             ],
             [
              0.6666666666666666,
              "#ed7953"
             ],
             [
              0.7777777777777778,
              "#fb9f3a"
             ],
             [
              0.8888888888888888,
              "#fdca26"
             ],
             [
              1,
              "#f0f921"
             ]
            ],
            "type": "surface"
           }
          ],
          "table": [
           {
            "cells": {
             "fill": {
              "color": "#EBF0F8"
             },
             "line": {
              "color": "white"
             }
            },
            "header": {
             "fill": {
              "color": "#C8D4E3"
             },
             "line": {
              "color": "white"
             }
            },
            "type": "table"
           }
          ]
         },
         "layout": {
          "annotationdefaults": {
           "arrowcolor": "#2a3f5f",
           "arrowhead": 0,
           "arrowwidth": 1
          },
          "autotypenumbers": "strict",
          "coloraxis": {
           "colorbar": {
            "outlinewidth": 0,
            "ticks": ""
           }
          },
          "colorscale": {
           "diverging": [
            [
             0,
             "#8e0152"
            ],
            [
             0.1,
             "#c51b7d"
            ],
            [
             0.2,
             "#de77ae"
            ],
            [
             0.3,
             "#f1b6da"
            ],
            [
             0.4,
             "#fde0ef"
            ],
            [
             0.5,
             "#f7f7f7"
            ],
            [
             0.6,
             "#e6f5d0"
            ],
            [
             0.7,
             "#b8e186"
            ],
            [
             0.8,
             "#7fbc41"
            ],
            [
             0.9,
             "#4d9221"
            ],
            [
             1,
             "#276419"
            ]
           ],
           "sequential": [
            [
             0,
             "#0d0887"
            ],
            [
             0.1111111111111111,
             "#46039f"
            ],
            [
             0.2222222222222222,
             "#7201a8"
            ],
            [
             0.3333333333333333,
             "#9c179e"
            ],
            [
             0.4444444444444444,
             "#bd3786"
            ],
            [
             0.5555555555555556,
             "#d8576b"
            ],
            [
             0.6666666666666666,
             "#ed7953"
            ],
            [
             0.7777777777777778,
             "#fb9f3a"
            ],
            [
             0.8888888888888888,
             "#fdca26"
            ],
            [
             1,
             "#f0f921"
            ]
           ],
           "sequentialminus": [
            [
             0,
             "#0d0887"
            ],
            [
             0.1111111111111111,
             "#46039f"
            ],
            [
             0.2222222222222222,
             "#7201a8"
            ],
            [
             0.3333333333333333,
             "#9c179e"
            ],
            [
             0.4444444444444444,
             "#bd3786"
            ],
            [
             0.5555555555555556,
             "#d8576b"
            ],
            [
             0.6666666666666666,
             "#ed7953"
            ],
            [
             0.7777777777777778,
             "#fb9f3a"
            ],
            [
             0.8888888888888888,
             "#fdca26"
            ],
            [
             1,
             "#f0f921"
            ]
           ]
          },
          "colorway": [
           "#636efa",
           "#EF553B",
           "#00cc96",
           "#ab63fa",
           "#FFA15A",
           "#19d3f3",
           "#FF6692",
           "#B6E880",
           "#FF97FF",
           "#FECB52"
          ],
          "font": {
           "color": "#2a3f5f"
          },
          "geo": {
           "bgcolor": "white",
           "lakecolor": "white",
           "landcolor": "#E5ECF6",
           "showlakes": true,
           "showland": true,
           "subunitcolor": "white"
          },
          "hoverlabel": {
           "align": "left"
          },
          "hovermode": "closest",
          "mapbox": {
           "style": "light"
          },
          "paper_bgcolor": "white",
          "plot_bgcolor": "#E5ECF6",
          "polar": {
           "angularaxis": {
            "gridcolor": "white",
            "linecolor": "white",
            "ticks": ""
           },
           "bgcolor": "#E5ECF6",
           "radialaxis": {
            "gridcolor": "white",
            "linecolor": "white",
            "ticks": ""
           }
          },
          "scene": {
           "xaxis": {
            "backgroundcolor": "#E5ECF6",
            "gridcolor": "white",
            "gridwidth": 2,
            "linecolor": "white",
            "showbackground": true,
            "ticks": "",
            "zerolinecolor": "white"
           },
           "yaxis": {
            "backgroundcolor": "#E5ECF6",
            "gridcolor": "white",
            "gridwidth": 2,
            "linecolor": "white",
            "showbackground": true,
            "ticks": "",
            "zerolinecolor": "white"
           },
           "zaxis": {
            "backgroundcolor": "#E5ECF6",
            "gridcolor": "white",
            "gridwidth": 2,
            "linecolor": "white",
            "showbackground": true,
            "ticks": "",
            "zerolinecolor": "white"
           }
          },
          "shapedefaults": {
           "line": {
            "color": "#2a3f5f"
           }
          },
          "ternary": {
           "aaxis": {
            "gridcolor": "white",
            "linecolor": "white",
            "ticks": ""
           },
           "baxis": {
            "gridcolor": "white",
            "linecolor": "white",
            "ticks": ""
           },
           "bgcolor": "#E5ECF6",
           "caxis": {
            "gridcolor": "white",
            "linecolor": "white",
            "ticks": ""
           }
          },
          "title": {
           "x": 0.05
          },
          "xaxis": {
           "automargin": true,
           "gridcolor": "white",
           "linecolor": "white",
           "ticks": "",
           "title": {
            "standoff": 15
           },
           "zerolinecolor": "white",
           "zerolinewidth": 2
          },
          "yaxis": {
           "automargin": true,
           "gridcolor": "white",
           "linecolor": "white",
           "ticks": "",
           "title": {
            "standoff": 15
           },
           "zerolinecolor": "white",
           "zerolinewidth": 2
          }
         }
        },
        "title": {
         "text": ""
        },
        "xaxis": {
         "showgrid": false,
         "tickfont": {
          "size": 16
         },
         "tickmode": "array",
         "ticktext": [
          "Jan",
          "Feb",
          "Mar",
          "Apr",
          "May",
          "Jun",
          "Jul",
          "Aug",
          "Sep",
          "Oct",
          "Nov",
          "Dec"
         ],
         "tickvals": [
          1,
          2,
          3,
          4,
          5,
          6,
          7,
          8,
          9,
          10,
          11,
          12
         ],
         "title": {
          "font": {
           "size": 16
          },
          "text": "Month"
         }
        },
        "yaxis": {
         "showgrid": false,
         "tickfont": {
          "size": 16
         },
         "title": {
          "font": {
           "size": 16
          },
          "text": "Average Sea Ice Extent"
         }
        },
        "yaxis2": {
         "overlaying": "y",
         "showgrid": false,
         "side": "right",
         "tickfont": {
          "size": 16
         },
         "title": {
          "font": {
           "size": 16
          },
          "text": "Average Water Temperature (°C)"
         }
        }
       }
      }
     },
     "metadata": {},
     "output_type": "display_data"
    }
   ],
   "source": [
    "import xarray as xr\n",
    "import plotly.graph_objects as go\n",
    "import os\n",
    "import pandas as pd\n",
    "\n",
    "# Base directory where the NetCDF files are stored\n",
    "data_dir = '/Users/casey/Desktop/blue-dot/data/raw'\n",
    "\n",
    "# Months (1 through 12) and their corresponding names\n",
    "month_names = ['Jan', 'Feb', 'Mar', 'Apr', 'May', 'Jun', 'Jul', 'Aug', 'Sep', 'Oct', 'Nov', 'Dec']\n",
    "months = list(range(1, 13))\n",
    "\n",
    "# Decade ranges, starting from 1981\n",
    "decades = [(1981, 1990), (1991, 2000), (2001, 2010), (2011, 2022)]\n",
    "\n",
    "# Latitude and longitude bounds for Northern Alaska\n",
    "lat_bounds = [64, 71]\n",
    "lon_bounds = [-168, -141]\n",
    "\n",
    "# Initialize DataFrames for sea ice extent and water temperature\n",
    "df_sea_ice = pd.DataFrame()\n",
    "df_water_temp = pd.DataFrame()\n",
    "\n",
    "# Process each file in the directory for sea ice and water temperature\n",
    "for file_name in os.listdir(data_dir):\n",
    "    if file_name.endswith('.nc4'):\n",
    "        # Extract year and month from file name\n",
    "        parts = file_name.split('.')\n",
    "        date_part = parts[-2]  # Format 'YYYYMM'\n",
    "        year = int(date_part[:4])\n",
    "        month = int(date_part[4:6])\n",
    "\n",
    "        file_path = os.path.join(data_dir, file_name)\n",
    "        ds = xr.open_dataset(file_path)\n",
    "\n",
    "        # Extract 'FRSEAICE' and 'Var_TSKINWTR' for Northern Alaska region\n",
    "        sea_ice = ds['FRSEAICE'].sel(lat=slice(*lat_bounds), lon=slice(*lon_bounds))\n",
    "        water_temp = ds['Var_TSKINWTR'].sel(lat=slice(*lat_bounds), lon=slice(*lon_bounds))\n",
    "\n",
    "        # Store data in respective DataFrames\n",
    "        df_sea_ice.at[pd.to_datetime(f'{year}-{month}-01'), 'Sea Ice Extent'] = sea_ice.mean().values\n",
    "        df_water_temp.at[pd.to_datetime(f'{year}-{month}-01'), 'Water Temperature'] = water_temp.mean().values\n",
    "        ds.close()\n",
    "\n",
    "# Create a figure for plotting\n",
    "fig = go.Figure()\n",
    "\n",
    "# Custom line and fill colors for each decade\n",
    "sea_ice_colors = ['#b1ffff', '#00ebeb', '#00c4c4', '#009d9d']\n",
    "water_temp_colors = {\n",
    "    (1981, 1990): '#ff9dff',\n",
    "    (1991, 2000): '#ffd0b1',\n",
    "    (2001, 2010): '#ffc4ff',\n",
    "    (2011, 2022): '#ffb889'\n",
    "}\n",
    "\n",
    "# Plot for each decade - Sea Ice Extent\n",
    "for (start_year, end_year), color in zip(decades, sea_ice_colors):\n",
    "    # Select the data for the decade\n",
    "    decade_data = df_sea_ice[(df_sea_ice.index.year >= start_year) & (df_sea_ice.index.year <= end_year)]\n",
    "    \n",
    "    # Calculate the 25th and 75th percentiles for each month\n",
    "    lower_bound = decade_data.groupby(decade_data.index.month).quantile(0.25)\n",
    "    upper_bound = decade_data.groupby(decade_data.index.month).quantile(0.75)\n",
    "\n",
    "    # Plot the percentiles\n",
    "    fig.add_trace(go.Scatter(x=lower_bound.index, y=lower_bound['Sea Ice Extent'], mode='lines', line=dict(color=color, width=1), name=f'{start_year}-{end_year} 25th Percentile Sea Ice', showlegend=False))\n",
    "    fig.add_trace(go.Scatter(x=upper_bound.index, y=upper_bound['Sea Ice Extent'], mode='lines', line=dict(color=color, width=1), name=f'{start_year}-{end_year} 75th Percentile Sea Ice', fill='tonexty', fillcolor=color, showlegend=False))\n",
    "\n",
    "# Plot for each decade - Water Temperature\n",
    "for (start_year, end_year), color in water_temp_colors.items():\n",
    "    # Select the data for the decade\n",
    "    decade_data = df_water_temp[(df_water_temp.index.year >= start_year) & (df_water_temp.index.year <= end_year)]\n",
    "    \n",
    "    # Calculate the 25th and 75th percentiles for each month\n",
    "    lower_bound = decade_data.groupby(decade_data.index.month).quantile(0.25)\n",
    "    upper_bound = decade_data.groupby(decade_data.index.month).quantile(0.75)\n",
    "\n",
    "    # Plot the percentiles\n",
    "    fig.add_trace(go.Scatter(x=lower_bound.index, y=lower_bound['Water Temperature'], mode='lines', line=dict(color=color, width=1), name=f'{start_year}-{end_year} 25th Percentile Water Temp', yaxis='y2', showlegend=False))\n",
    "    fig.add_trace(go.Scatter(x=upper_bound.index, y=upper_bound['Water Temperature'], mode='lines', line=dict(color=color, width=1), name=f'{start_year}-{end_year} 75th Percentile Water Temp', fill='tonexty', fillcolor=color, yaxis='y2', showlegend=False))\n",
    "\n",
    "# Plot the year 2023 for both data types\n",
    "data_2023_sea_ice = df_sea_ice[df_sea_ice.index.year == 2023].sort_index()\n",
    "data_2023_water_temp = df_water_temp[df_water_temp.index.year == 2023].sort_index()\n",
    "if not data_2023_sea_ice.empty:\n",
    "    fig.add_trace(go.Scatter(x=data_2023_sea_ice.index.month, y=data_2023_sea_ice['Sea Ice Extent'], mode='lines', line=dict(color='#007676', width=2), showlegend=False))\n",
    "if not data_2023_water_temp.empty:\n",
    "    fig.add_trace(go.Scatter(x=data_2023_water_temp.index.month, y=data_2023_water_temp['Water Temperature'], mode='lines', line=dict(color='#ff954e', width=2), yaxis='y2', showlegend=False))\n",
    "\n",
    "\n",
    "# Update layout\n",
    "fig.update_layout(\n",
    "    title='',\n",
    "    xaxis=dict(title='Month', tickmode='array', showgrid=False, tickvals=months, ticktext=month_names, title_font=dict(size=16), tickfont=dict(size=16)),\n",
    "    yaxis=dict(title='Average Sea Ice Extent', showgrid =False, title_font=dict(size=16), tickfont=dict(size=16)),\n",
    "    yaxis2=dict(title='Average Water Temperature (°C)', overlaying='y', showgrid=False, side='right', title_font=dict(size=16), tickfont=dict(size=16)),\n",
    "    plot_bgcolor='rgba(255,255,255,1)',  # White background\n",
    "    paper_bgcolor='rgba(255,255,255,1)'  # White background\n",
    ")\n",
    "\n",
    "fig.show()\n",
    "fig.write_image('/Users/casey/Desktop/blue-dot/reports/figures/final_plot.svg', width = 1250, height = 700)"
   ]
  },
  {
   "cell_type": "code",
   "execution_count": 18,
   "metadata": {},
   "outputs": [
    {
     "data": {
      "application/vnd.plotly.v1+json": {
       "config": {
        "plotlyServerURL": "https://plot.ly"
       },
       "data": [
        {
         "line": {
          "color": "#b1ffff",
          "width": 1
         },
         "mode": "lines",
         "name": "1981-1990 25th Percentile Sea Ice",
         "showlegend": false,
         "type": "scatter",
         "x": [
          1,
          2,
          3,
          4,
          5,
          6,
          7,
          8,
          9,
          10,
          11,
          12
         ],
         "y": [
          0.1822800599038601,
          0.18391869217157364,
          0.18541322275996208,
          0.1839982196688652,
          0.15365808829665184,
          0.09222518280148506,
          0.040344431065022945,
          0.008290012134239078,
          0.004449499654583633,
          0.026802307926118374,
          0.11628792993724346,
          0.16880463063716888
         ]
        },
        {
         "fill": "tonexty",
         "fillcolor": "#b1ffff",
         "line": {
          "color": "#b1ffff",
          "width": 1
         },
         "mode": "lines",
         "name": "1981-1990 75th Percentile Sea Ice",
         "showlegend": false,
         "type": "scatter",
         "x": [
          1,
          2,
          3,
          4,
          5,
          6,
          7,
          8,
          9,
          10,
          11,
          12
         ],
         "y": [
          0.1904035396873951,
          0.191507488489151,
          0.19421666488051414,
          0.1921771727502346,
          0.1722470000386238,
          0.1382976733148098,
          0.06678935699164867,
          0.03626842750236392,
          0.021608272567391396,
          0.07253994047641754,
          0.1410103365778923,
          0.18048839643597603
         ]
        },
        {
         "line": {
          "color": "#00ebeb",
          "width": 1
         },
         "mode": "lines",
         "name": "1991-2000 25th Percentile Sea Ice",
         "showlegend": false,
         "type": "scatter",
         "x": [
          1,
          2,
          3,
          4,
          5,
          6,
          7,
          8,
          9,
          10,
          11,
          12
         ],
         "y": [
          0.18693799525499344,
          0.18843773007392883,
          0.18629247695207596,
          0.18434428796172142,
          0.15007056668400764,
          0.09434756636619568,
          0.02788578998297453,
          0.0028541554347611964,
          0.0036591955577023327,
          0.024001408834010363,
          0.0748366191983223,
          0.17086010798811913
         ]
        },
        {
         "fill": "tonexty",
         "fillcolor": "#00ebeb",
         "line": {
          "color": "#00ebeb",
          "width": 1
         },
         "mode": "lines",
         "name": "1991-2000 75th Percentile Sea Ice",
         "showlegend": false,
         "type": "scatter",
         "x": [
          1,
          2,
          3,
          4,
          5,
          6,
          7,
          8,
          9,
          10,
          11,
          12
         ],
         "y": [
          0.19018777459859848,
          0.19327179342508316,
          0.19200440868735313,
          0.19053137302398682,
          0.17087406292557716,
          0.1293634343892336,
          0.055369678884744644,
          0.015134575311094522,
          0.018307987367734313,
          0.052162240259349346,
          0.11729537509381771,
          0.18426130712032318
         ]
        },
        {
         "line": {
          "color": "#00c4c4",
          "width": 1
         },
         "mode": "lines",
         "name": "2001-2010 25th Percentile Sea Ice",
         "showlegend": false,
         "type": "scatter",
         "x": [
          1,
          2,
          3,
          4,
          5,
          6,
          7,
          8,
          9,
          10,
          11,
          12
         ],
         "y": [
          0.18106825277209282,
          0.18436672911047935,
          0.1884574070572853,
          0.18135935440659523,
          0.14857353642582893,
          0.07514273934066296,
          0.012922507477924228,
          0.0009088442020583898,
          0.00031713971111457795,
          0.009886630810797215,
          0.07575192488729954,
          0.16678451746702194
         ]
        },
        {
         "fill": "tonexty",
         "fillcolor": "#00c4c4",
         "line": {
          "color": "#00c4c4",
          "width": 1
         },
         "mode": "lines",
         "name": "2001-2010 75th Percentile Sea Ice",
         "showlegend": false,
         "type": "scatter",
         "x": [
          1,
          2,
          3,
          4,
          5,
          6,
          7,
          8,
          9,
          10,
          11,
          12
         ],
         "y": [
          0.20307613909244537,
          0.2064211741089821,
          0.2025994062423706,
          0.20922719687223434,
          0.16788288950920105,
          0.08739073015749454,
          0.047318282537162304,
          0.012624028837308288,
          0.0038513168692588806,
          0.02285748766735196,
          0.11330620758235455,
          0.18703193590044975
         ]
        },
        {
         "line": {
          "color": "#009d9d",
          "width": 1
         },
         "mode": "lines",
         "name": "2011-2022 25th Percentile Sea Ice",
         "showlegend": false,
         "type": "scatter",
         "x": [
          1,
          2,
          3,
          4,
          5,
          6,
          7,
          8,
          9,
          10,
          11,
          12
         ],
         "y": [
          0.1970141865313053,
          0.20189980417490005,
          0.20331192389130592,
          0.18876279890537262,
          0.11253340914845467,
          0.053620762191712856,
          0.011132407234981656,
          0.00018821155754267238,
          0.0007995454361662269,
          0.0058673652820289135,
          0.0651714988052845,
          0.15772471576929092
         ]
        },
        {
         "fill": "tonexty",
         "fillcolor": "#009d9d",
         "line": {
          "color": "#009d9d",
          "width": 1
         },
         "mode": "lines",
         "name": "2011-2022 75th Percentile Sea Ice",
         "showlegend": false,
         "type": "scatter",
         "x": [
          1,
          2,
          3,
          4,
          5,
          6,
          7,
          8,
          9,
          10,
          11,
          12
         ],
         "y": [
          0.20757214725017548,
          0.21035847812891006,
          0.21308286488056183,
          0.2074100226163864,
          0.1646217592060566,
          0.08240364491939545,
          0.020227645989507437,
          0.001028912010951899,
          0.001408028940204531,
          0.013182905036956072,
          0.0831838920712471,
          0.18478607758879662
         ]
        },
        {
         "line": {
          "color": "#ff9dff",
          "width": 1
         },
         "mode": "lines",
         "name": "1981-1990 25th Percentile Water Temp",
         "showlegend": false,
         "type": "scatter",
         "x": [
          1,
          2,
          3,
          4,
          5,
          6,
          7,
          8,
          9,
          10,
          11,
          12
         ],
         "y": [
          0.009840271435678005,
          0.006823862669989467,
          0.006227678735740483,
          0.014756579883396626,
          0.14852388203144073,
          0.7981462478637695,
          1.2154761254787445,
          0.9086401164531708,
          0.7856452167034149,
          0.9442847967147827,
          0.07362266536802053,
          0.017756537534296513
         ],
         "yaxis": "y2"
        },
        {
         "fill": "tonexty",
         "fillcolor": "#ff9dff",
         "line": {
          "color": "#ff9dff",
          "width": 1
         },
         "mode": "lines",
         "name": "1981-1990 75th Percentile Water Temp",
         "showlegend": false,
         "type": "scatter",
         "x": [
          1,
          2,
          3,
          4,
          5,
          6,
          7,
          8,
          9,
          10,
          11,
          12
         ],
         "y": [
          0.014388859737664461,
          0.019156217575073242,
          0.021978437900543213,
          0.06802827306091785,
          0.20816645398736,
          1.2259342670440674,
          2.0265742540359497,
          1.1578383147716522,
          1.6693075001239777,
          1.6133650541305542,
          0.2711103670299053,
          0.027730820700526237
         ],
         "yaxis": "y2"
        },
        {
         "line": {
          "color": "#ffd0b1",
          "width": 1
         },
         "mode": "lines",
         "name": "1991-2000 25th Percentile Water Temp",
         "showlegend": false,
         "type": "scatter",
         "x": [
          1,
          2,
          3,
          4,
          5,
          6,
          7,
          8,
          9,
          10,
          11,
          12
         ],
         "y": [
          0.014350188197568059,
          0.007205713423900306,
          0.008776488015428185,
          0.03311094734817743,
          0.21336039155721664,
          0.6502945870161057,
          1.2805421650409698,
          0.6001799404621124,
          0.8524713665246964,
          0.8585038632154465,
          0.17675471678376198,
          0.033537354320287704
         ],
         "yaxis": "y2"
        },
        {
         "fill": "tonexty",
         "fillcolor": "#ffd0b1",
         "line": {
          "color": "#ffd0b1",
          "width": 1
         },
         "mode": "lines",
         "name": "1991-2000 75th Percentile Water Temp",
         "showlegend": false,
         "type": "scatter",
         "x": [
          1,
          2,
          3,
          4,
          5,
          6,
          7,
          8,
          9,
          10,
          11,
          12
         ],
         "y": [
          0.020912677980959415,
          0.013535281643271446,
          0.019917893689125776,
          0.04601801745593548,
          0.4797203317284584,
          1.36539226770401,
          2.5760152339935303,
          0.8519479185342789,
          1.5812636017799377,
          1.8771924376487732,
          0.3540479987859726,
          0.056774577125906944
         ],
         "yaxis": "y2"
        },
        {
         "line": {
          "color": "#ffc4ff",
          "width": 1
         },
         "mode": "lines",
         "name": "2001-2010 25th Percentile Water Temp",
         "showlegend": false,
         "type": "scatter",
         "x": [
          1,
          2,
          3,
          4,
          5,
          6,
          7,
          8,
          9,
          10,
          11,
          12
         ],
         "y": [
          0.0015778153319843113,
          0.0028140954673290253,
          0.00030887616594554856,
          0.015719704562798142,
          0.22458600252866745,
          0.7111760675907135,
          1.0121718794107437,
          0.7100327163934708,
          0.888044148683548,
          1.3046386539936066,
          0.3070369064807892,
          0.02327051991596818
         ],
         "yaxis": "y2"
        },
        {
         "fill": "tonexty",
         "fillcolor": "#ffc4ff",
         "line": {
          "color": "#ffc4ff",
          "width": 1
         },
         "mode": "lines",
         "name": "2001-2010 75th Percentile Water Temp",
         "showlegend": false,
         "type": "scatter",
         "x": [
          1,
          2,
          3,
          4,
          5,
          6,
          7,
          8,
          9,
          10,
          11,
          12
         ],
         "y": [
          0.02333797514438629,
          0.01565743051469326,
          0.027142353355884552,
          0.06880111433565617,
          0.3765507787466049,
          1.5421717464923859,
          2.381105065345764,
          0.9895347654819489,
          1.5289421379566193,
          1.8782914280891418,
          0.6258487403392792,
          0.055698152631521225
         ],
         "yaxis": "y2"
        },
        {
         "line": {
          "color": "#ffb889",
          "width": 1
         },
         "mode": "lines",
         "name": "2011-2022 25th Percentile Water Temp",
         "showlegend": false,
         "type": "scatter",
         "x": [
          1,
          2,
          3,
          4,
          5,
          6,
          7,
          8,
          9,
          10,
          11,
          12
         ],
         "y": [
          0.0013016517768846825,
          0.00029408931914076675,
          0.0008537025132682174,
          0.01873024133965373,
          0.46234260499477386,
          1.8422691822052002,
          1.6750235259532928,
          0.628967210650444,
          1.2621210217475891,
          1.164191722869873,
          0.40346165001392365,
          0.01379872765392065
         ],
         "yaxis": "y2"
        },
        {
         "fill": "tonexty",
         "fillcolor": "#ffb889",
         "line": {
          "color": "#ffb889",
          "width": 1
         },
         "mode": "lines",
         "name": "2011-2022 75th Percentile Water Temp",
         "showlegend": false,
         "type": "scatter",
         "x": [
          1,
          2,
          3,
          4,
          5,
          6,
          7,
          8,
          9,
          10,
          11,
          12
         ],
         "y": [
          0.009207146940752864,
          0.006510775885544717,
          0.007968045712914318,
          0.0722821056842804,
          0.8055328875780106,
          3.3125771284103394,
          2.3105637431144714,
          1.0500854700803757,
          1.7670228779315948,
          1.986100047826767,
          0.701116219162941,
          0.07212213799357414
         ],
         "yaxis": "y2"
        },
        {
         "line": {
          "color": "#007676",
          "width": 2
         },
         "mode": "lines",
         "showlegend": false,
         "type": "scatter",
         "x": [
          1,
          2,
          3,
          4,
          5,
          6,
          7,
          8,
          9,
          10,
          11,
          12
         ],
         "y": [
          0.20088353753089905,
          0.20808571577072144,
          0.20793235301971436,
          0.21016432344913483,
          0.17902381718158722,
          0.0983843207359314,
          0.016506895422935486,
          0.00003418261621845886,
          0,
          0.00043609418207779527,
          0.05319080874323845,
          0.17476655542850494
         ]
        },
        {
         "line": {
          "color": "#ff954e",
          "width": 2
         },
         "mode": "lines",
         "showlegend": false,
         "type": "scatter",
         "x": [
          1,
          2,
          3,
          4,
          5,
          6,
          7,
          8,
          9,
          10,
          11,
          12
         ],
         "y": [
          0.0006476072012446821,
          0.000028720756745315157,
          0.004475337918847799,
          0.014894758351147175,
          0.2796270251274109,
          2.374969482421875,
          4.918767929077148,
          1.5258753299713135,
          0.8641899824142456,
          1.9182215929031372,
          0.5511137247085571,
          0.07085570693016052
         ],
         "yaxis": "y2"
        }
       ],
       "layout": {
        "paper_bgcolor": "rgba(0,0,0,0)",
        "plot_bgcolor": "rgba(0,0,0,0)",
        "showlegend": false,
        "template": {
         "data": {
          "bar": [
           {
            "error_x": {
             "color": "#2a3f5f"
            },
            "error_y": {
             "color": "#2a3f5f"
            },
            "marker": {
             "line": {
              "color": "#E5ECF6",
              "width": 0.5
             },
             "pattern": {
              "fillmode": "overlay",
              "size": 10,
              "solidity": 0.2
             }
            },
            "type": "bar"
           }
          ],
          "barpolar": [
           {
            "marker": {
             "line": {
              "color": "#E5ECF6",
              "width": 0.5
             },
             "pattern": {
              "fillmode": "overlay",
              "size": 10,
              "solidity": 0.2
             }
            },
            "type": "barpolar"
           }
          ],
          "carpet": [
           {
            "aaxis": {
             "endlinecolor": "#2a3f5f",
             "gridcolor": "white",
             "linecolor": "white",
             "minorgridcolor": "white",
             "startlinecolor": "#2a3f5f"
            },
            "baxis": {
             "endlinecolor": "#2a3f5f",
             "gridcolor": "white",
             "linecolor": "white",
             "minorgridcolor": "white",
             "startlinecolor": "#2a3f5f"
            },
            "type": "carpet"
           }
          ],
          "choropleth": [
           {
            "colorbar": {
             "outlinewidth": 0,
             "ticks": ""
            },
            "type": "choropleth"
           }
          ],
          "contour": [
           {
            "colorbar": {
             "outlinewidth": 0,
             "ticks": ""
            },
            "colorscale": [
             [
              0,
              "#0d0887"
             ],
             [
              0.1111111111111111,
              "#46039f"
             ],
             [
              0.2222222222222222,
              "#7201a8"
             ],
             [
              0.3333333333333333,
              "#9c179e"
             ],
             [
              0.4444444444444444,
              "#bd3786"
             ],
             [
              0.5555555555555556,
              "#d8576b"
             ],
             [
              0.6666666666666666,
              "#ed7953"
             ],
             [
              0.7777777777777778,
              "#fb9f3a"
             ],
             [
              0.8888888888888888,
              "#fdca26"
             ],
             [
              1,
              "#f0f921"
             ]
            ],
            "type": "contour"
           }
          ],
          "contourcarpet": [
           {
            "colorbar": {
             "outlinewidth": 0,
             "ticks": ""
            },
            "type": "contourcarpet"
           }
          ],
          "heatmap": [
           {
            "colorbar": {
             "outlinewidth": 0,
             "ticks": ""
            },
            "colorscale": [
             [
              0,
              "#0d0887"
             ],
             [
              0.1111111111111111,
              "#46039f"
             ],
             [
              0.2222222222222222,
              "#7201a8"
             ],
             [
              0.3333333333333333,
              "#9c179e"
             ],
             [
              0.4444444444444444,
              "#bd3786"
             ],
             [
              0.5555555555555556,
              "#d8576b"
             ],
             [
              0.6666666666666666,
              "#ed7953"
             ],
             [
              0.7777777777777778,
              "#fb9f3a"
             ],
             [
              0.8888888888888888,
              "#fdca26"
             ],
             [
              1,
              "#f0f921"
             ]
            ],
            "type": "heatmap"
           }
          ],
          "heatmapgl": [
           {
            "colorbar": {
             "outlinewidth": 0,
             "ticks": ""
            },
            "colorscale": [
             [
              0,
              "#0d0887"
             ],
             [
              0.1111111111111111,
              "#46039f"
             ],
             [
              0.2222222222222222,
              "#7201a8"
             ],
             [
              0.3333333333333333,
              "#9c179e"
             ],
             [
              0.4444444444444444,
              "#bd3786"
             ],
             [
              0.5555555555555556,
              "#d8576b"
             ],
             [
              0.6666666666666666,
              "#ed7953"
             ],
             [
              0.7777777777777778,
              "#fb9f3a"
             ],
             [
              0.8888888888888888,
              "#fdca26"
             ],
             [
              1,
              "#f0f921"
             ]
            ],
            "type": "heatmapgl"
           }
          ],
          "histogram": [
           {
            "marker": {
             "pattern": {
              "fillmode": "overlay",
              "size": 10,
              "solidity": 0.2
             }
            },
            "type": "histogram"
           }
          ],
          "histogram2d": [
           {
            "colorbar": {
             "outlinewidth": 0,
             "ticks": ""
            },
            "colorscale": [
             [
              0,
              "#0d0887"
             ],
             [
              0.1111111111111111,
              "#46039f"
             ],
             [
              0.2222222222222222,
              "#7201a8"
             ],
             [
              0.3333333333333333,
              "#9c179e"
             ],
             [
              0.4444444444444444,
              "#bd3786"
             ],
             [
              0.5555555555555556,
              "#d8576b"
             ],
             [
              0.6666666666666666,
              "#ed7953"
             ],
             [
              0.7777777777777778,
              "#fb9f3a"
             ],
             [
              0.8888888888888888,
              "#fdca26"
             ],
             [
              1,
              "#f0f921"
             ]
            ],
            "type": "histogram2d"
           }
          ],
          "histogram2dcontour": [
           {
            "colorbar": {
             "outlinewidth": 0,
             "ticks": ""
            },
            "colorscale": [
             [
              0,
              "#0d0887"
             ],
             [
              0.1111111111111111,
              "#46039f"
             ],
             [
              0.2222222222222222,
              "#7201a8"
             ],
             [
              0.3333333333333333,
              "#9c179e"
             ],
             [
              0.4444444444444444,
              "#bd3786"
             ],
             [
              0.5555555555555556,
              "#d8576b"
             ],
             [
              0.6666666666666666,
              "#ed7953"
             ],
             [
              0.7777777777777778,
              "#fb9f3a"
             ],
             [
              0.8888888888888888,
              "#fdca26"
             ],
             [
              1,
              "#f0f921"
             ]
            ],
            "type": "histogram2dcontour"
           }
          ],
          "mesh3d": [
           {
            "colorbar": {
             "outlinewidth": 0,
             "ticks": ""
            },
            "type": "mesh3d"
           }
          ],
          "parcoords": [
           {
            "line": {
             "colorbar": {
              "outlinewidth": 0,
              "ticks": ""
             }
            },
            "type": "parcoords"
           }
          ],
          "pie": [
           {
            "automargin": true,
            "type": "pie"
           }
          ],
          "scatter": [
           {
            "fillpattern": {
             "fillmode": "overlay",
             "size": 10,
             "solidity": 0.2
            },
            "type": "scatter"
           }
          ],
          "scatter3d": [
           {
            "line": {
             "colorbar": {
              "outlinewidth": 0,
              "ticks": ""
             }
            },
            "marker": {
             "colorbar": {
              "outlinewidth": 0,
              "ticks": ""
             }
            },
            "type": "scatter3d"
           }
          ],
          "scattercarpet": [
           {
            "marker": {
             "colorbar": {
              "outlinewidth": 0,
              "ticks": ""
             }
            },
            "type": "scattercarpet"
           }
          ],
          "scattergeo": [
           {
            "marker": {
             "colorbar": {
              "outlinewidth": 0,
              "ticks": ""
             }
            },
            "type": "scattergeo"
           }
          ],
          "scattergl": [
           {
            "marker": {
             "colorbar": {
              "outlinewidth": 0,
              "ticks": ""
             }
            },
            "type": "scattergl"
           }
          ],
          "scattermapbox": [
           {
            "marker": {
             "colorbar": {
              "outlinewidth": 0,
              "ticks": ""
             }
            },
            "type": "scattermapbox"
           }
          ],
          "scatterpolar": [
           {
            "marker": {
             "colorbar": {
              "outlinewidth": 0,
              "ticks": ""
             }
            },
            "type": "scatterpolar"
           }
          ],
          "scatterpolargl": [
           {
            "marker": {
             "colorbar": {
              "outlinewidth": 0,
              "ticks": ""
             }
            },
            "type": "scatterpolargl"
           }
          ],
          "scatterternary": [
           {
            "marker": {
             "colorbar": {
              "outlinewidth": 0,
              "ticks": ""
             }
            },
            "type": "scatterternary"
           }
          ],
          "surface": [
           {
            "colorbar": {
             "outlinewidth": 0,
             "ticks": ""
            },
            "colorscale": [
             [
              0,
              "#0d0887"
             ],
             [
              0.1111111111111111,
              "#46039f"
             ],
             [
              0.2222222222222222,
              "#7201a8"
             ],
             [
              0.3333333333333333,
              "#9c179e"
             ],
             [
              0.4444444444444444,
              "#bd3786"
             ],
             [
              0.5555555555555556,
              "#d8576b"
             ],
             [
              0.6666666666666666,
              "#ed7953"
             ],
             [
              0.7777777777777778,
              "#fb9f3a"
             ],
             [
              0.8888888888888888,
              "#fdca26"
             ],
             [
              1,
              "#f0f921"
             ]
            ],
            "type": "surface"
           }
          ],
          "table": [
           {
            "cells": {
             "fill": {
              "color": "#EBF0F8"
             },
             "line": {
              "color": "white"
             }
            },
            "header": {
             "fill": {
              "color": "#C8D4E3"
             },
             "line": {
              "color": "white"
             }
            },
            "type": "table"
           }
          ]
         },
         "layout": {
          "annotationdefaults": {
           "arrowcolor": "#2a3f5f",
           "arrowhead": 0,
           "arrowwidth": 1
          },
          "autotypenumbers": "strict",
          "coloraxis": {
           "colorbar": {
            "outlinewidth": 0,
            "ticks": ""
           }
          },
          "colorscale": {
           "diverging": [
            [
             0,
             "#8e0152"
            ],
            [
             0.1,
             "#c51b7d"
            ],
            [
             0.2,
             "#de77ae"
            ],
            [
             0.3,
             "#f1b6da"
            ],
            [
             0.4,
             "#fde0ef"
            ],
            [
             0.5,
             "#f7f7f7"
            ],
            [
             0.6,
             "#e6f5d0"
            ],
            [
             0.7,
             "#b8e186"
            ],
            [
             0.8,
             "#7fbc41"
            ],
            [
             0.9,
             "#4d9221"
            ],
            [
             1,
             "#276419"
            ]
           ],
           "sequential": [
            [
             0,
             "#0d0887"
            ],
            [
             0.1111111111111111,
             "#46039f"
            ],
            [
             0.2222222222222222,
             "#7201a8"
            ],
            [
             0.3333333333333333,
             "#9c179e"
            ],
            [
             0.4444444444444444,
             "#bd3786"
            ],
            [
             0.5555555555555556,
             "#d8576b"
            ],
            [
             0.6666666666666666,
             "#ed7953"
            ],
            [
             0.7777777777777778,
             "#fb9f3a"
            ],
            [
             0.8888888888888888,
             "#fdca26"
            ],
            [
             1,
             "#f0f921"
            ]
           ],
           "sequentialminus": [
            [
             0,
             "#0d0887"
            ],
            [
             0.1111111111111111,
             "#46039f"
            ],
            [
             0.2222222222222222,
             "#7201a8"
            ],
            [
             0.3333333333333333,
             "#9c179e"
            ],
            [
             0.4444444444444444,
             "#bd3786"
            ],
            [
             0.5555555555555556,
             "#d8576b"
            ],
            [
             0.6666666666666666,
             "#ed7953"
            ],
            [
             0.7777777777777778,
             "#fb9f3a"
            ],
            [
             0.8888888888888888,
             "#fdca26"
            ],
            [
             1,
             "#f0f921"
            ]
           ]
          },
          "colorway": [
           "#636efa",
           "#EF553B",
           "#00cc96",
           "#ab63fa",
           "#FFA15A",
           "#19d3f3",
           "#FF6692",
           "#B6E880",
           "#FF97FF",
           "#FECB52"
          ],
          "font": {
           "color": "#2a3f5f"
          },
          "geo": {
           "bgcolor": "white",
           "lakecolor": "white",
           "landcolor": "#E5ECF6",
           "showlakes": true,
           "showland": true,
           "subunitcolor": "white"
          },
          "hoverlabel": {
           "align": "left"
          },
          "hovermode": "closest",
          "mapbox": {
           "style": "light"
          },
          "paper_bgcolor": "white",
          "plot_bgcolor": "#E5ECF6",
          "polar": {
           "angularaxis": {
            "gridcolor": "white",
            "linecolor": "white",
            "ticks": ""
           },
           "bgcolor": "#E5ECF6",
           "radialaxis": {
            "gridcolor": "white",
            "linecolor": "white",
            "ticks": ""
           }
          },
          "scene": {
           "xaxis": {
            "backgroundcolor": "#E5ECF6",
            "gridcolor": "white",
            "gridwidth": 2,
            "linecolor": "white",
            "showbackground": true,
            "ticks": "",
            "zerolinecolor": "white"
           },
           "yaxis": {
            "backgroundcolor": "#E5ECF6",
            "gridcolor": "white",
            "gridwidth": 2,
            "linecolor": "white",
            "showbackground": true,
            "ticks": "",
            "zerolinecolor": "white"
           },
           "zaxis": {
            "backgroundcolor": "#E5ECF6",
            "gridcolor": "white",
            "gridwidth": 2,
            "linecolor": "white",
            "showbackground": true,
            "ticks": "",
            "zerolinecolor": "white"
           }
          },
          "shapedefaults": {
           "line": {
            "color": "#2a3f5f"
           }
          },
          "ternary": {
           "aaxis": {
            "gridcolor": "white",
            "linecolor": "white",
            "ticks": ""
           },
           "baxis": {
            "gridcolor": "white",
            "linecolor": "white",
            "ticks": ""
           },
           "bgcolor": "#E5ECF6",
           "caxis": {
            "gridcolor": "white",
            "linecolor": "white",
            "ticks": ""
           }
          },
          "title": {
           "x": 0.05
          },
          "xaxis": {
           "automargin": true,
           "gridcolor": "white",
           "linecolor": "white",
           "ticks": "",
           "title": {
            "standoff": 15
           },
           "zerolinecolor": "white",
           "zerolinewidth": 2
          },
          "yaxis": {
           "automargin": true,
           "gridcolor": "white",
           "linecolor": "white",
           "ticks": "",
           "title": {
            "standoff": 15
           },
           "zerolinecolor": "white",
           "zerolinewidth": 2
          }
         }
        },
        "title": {
         "text": ""
        },
        "xaxis": {
         "showgrid": false,
         "tickfont": {
          "size": 16
         },
         "tickmode": "array",
         "ticktext": [
          "Jan",
          "Feb",
          "Mar",
          "Apr",
          "May",
          "Jun",
          "Jul",
          "Aug",
          "Sep",
          "Oct",
          "Nov",
          "Dec"
         ],
         "tickvals": [
          1,
          2,
          3,
          4,
          5,
          6,
          7,
          8,
          9,
          10,
          11,
          12
         ],
         "title": {
          "font": {
           "size": 16
          },
          "text": "Month"
         },
         "visible": false
        },
        "yaxis": {
         "showgrid": false,
         "tickfont": {
          "size": 16
         },
         "title": {
          "font": {
           "size": 16
          },
          "text": "Average Sea Ice Extent"
         },
         "visible": false
        },
        "yaxis2": {
         "overlaying": "y",
         "showgrid": false,
         "side": "right",
         "tickfont": {
          "size": 16
         },
         "title": {
          "font": {
           "size": 16
          },
          "text": "Average Water Temperature (°C)"
         },
         "visible": false
        }
       }
      }
     },
     "metadata": {},
     "output_type": "display_data"
    }
   ],
   "source": [
    "fig.update_layout(showlegend=False, xaxis_visible=False, yaxis_visible=False, yaxis2_visible = False, plot_bgcolor='rgba(0,0,0,0)', paper_bgcolor='rgba(0,0,0,0)', title='')\n",
    "fig.show()\n",
    "fig.write_image('/Users/casey/Desktop/blue-dot/reports/figures/final_shape.svg', width = 1250, height = 700)"
   ]
  }
 ],
 "metadata": {
  "kernelspec": {
   "display_name": "base",
   "language": "python",
   "name": "python3"
  },
  "language_info": {
   "codemirror_mode": {
    "name": "ipython",
    "version": 3
   },
   "file_extension": ".py",
   "mimetype": "text/x-python",
   "name": "python",
   "nbconvert_exporter": "python",
   "pygments_lexer": "ipython3",
   "version": "3.11.4"
  },
  "orig_nbformat": 4
 },
 "nbformat": 4,
 "nbformat_minor": 2
}
